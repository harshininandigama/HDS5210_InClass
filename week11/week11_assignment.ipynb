{
  "cells": [
    {
      "cell_type": "markdown",
      "metadata": {
        "id": "view-in-github",
        "colab_type": "text"
      },
      "source": [
        "<a href=\"https://colab.research.google.com/github/harshininandigama/HDS5210_InClass/blob/master/week11/week11_assignment.ipynb\" target=\"_parent\"><img src=\"https://colab.research.google.com/assets/colab-badge.svg\" alt=\"Open In Colab\"/></a>"
      ]
    },
    {
      "cell_type": "markdown",
      "metadata": {
        "id": "6TNPAswcaTpT"
      },
      "source": [
        "# Week 11 Assignment\n",
        "\n",
        "\n",
        "Please do the programming exercise and verify that your code works using the tests, then think about your final project and fill out the questions in the second part.\n",
        "\n",
        "---\n",
        "---"
      ]
    },
    {
      "cell_type": "markdown",
      "metadata": {
        "id": "qJdqRPH6aTpT"
      },
      "source": [
        "### 47.1: Filtering and summarizing data\n",
        "\n",
        "For this work, you'll find a data file in `/data/complications_all.csv`.\n",
        "\n",
        "Read in the data file and create a variable called `mo_hospitals` that contains a data frame from the `complications_all.csv` file, filtered down to only contain those hospitals from the state of Missouri (MO).\n",
        "\n",
        "Then aggregate that data by hospital into a variable named `mo_summary`.  There are some key fields that we want to summarize:\n",
        "* We want to know the earliest date that each hospital was participating in any program\n",
        "* We want to know the latest date that each hospital stopped participating in any program\n",
        "* We want to know the total number of patients in the denominators of these programs\n",
        "\n",
        "Some things to note:\n",
        "* You will need to convert the `Start Date` and `End Date` to actual datetime fields\n",
        "* You will need to clean up and convert the `Denominator` field to just be numeric - the rule that you should use it to simply remove any records where the `Denominator` is `'Not Available'`\n",
        "\n",
        "\n",
        "The final result of this step should be a new data frame called `mo_summary` that contains one row for each hospital and contains the min start date, max end date, and total denominator.  Use the names `start_date`, `end_date`, and `number` for those columns in `mo_summary`.\n",
        "\n",
        "\n",
        "You do not need to create your code in the form of a function, just make sure your variable names match what I've described above so the tests work."
      ]
    },
    {
      "cell_type": "code",
      "execution_count": 1,
      "metadata": {
        "id": "yc8TVpIKaTpU"
      },
      "outputs": [],
      "source": [
        "import pandas as pd\n",
        "# This is just to show you the name to use for the variable you need to create for this step to pass.\n",
        "all_hospitals = pd.read_csv('/content/complications_all.csv')\n"
      ]
    },
    {
      "cell_type": "code",
      "execution_count": 2,
      "metadata": {
        "id": "P8g3zYVGaTpU"
      },
      "outputs": [],
      "source": [
        "import pandas as pd\n",
        "\n",
        "# Load the CSV data\n",
        "data = pd.read_csv('/content/complications_all.csv')\n",
        "\n",
        "# Filter data\n",
        "mo_hospitals = data[data['State'] == 'MO'].copy()\n",
        "\n",
        "# Convert 'Start Date' and 'End Date' columns to datetime\n",
        "mo_hospitals['Start Date'] = pd.to_datetime(mo_hospitals['Start Date'], errors='coerce')\n",
        "mo_hospitals['End Date'] = pd.to_datetime(mo_hospitals['End Date'], errors='coerce')\n",
        "\n",
        "# Remove rows where Denominator is 'Not Available'\n",
        "mo_hospitals = mo_hospitals[mo_hospitals['Denominator'] != 'Not Available']\n",
        "mo_hospitals['Denominator'] = pd.to_numeric(mo_hospitals['Denominator'], errors='coerce')"
      ]
    },
    {
      "cell_type": "code",
      "source": [
        "# Aggregate the data by hospital\n",
        "mo_summary = mo_hospitals.groupby('Facility Name').agg(\n",
        "    start_date=('Start Date', 'min'),\n",
        "    end_date=('End Date', 'max'),\n",
        "    number=('Denominator', 'sum')\n",
        ").reset_index()\n",
        "\n",
        "mo_summary.set_index('Facility Name', inplace=True)"
      ],
      "metadata": {
        "id": "HxoLJ2MzdoaB"
      },
      "execution_count": 3,
      "outputs": []
    },
    {
      "cell_type": "code",
      "execution_count": 4,
      "metadata": {
        "id": "C8JzsKgcaTpU"
      },
      "outputs": [],
      "source": [
        "assert(mo_summary['number'].sum() == 1766908)\n",
        "assert(mo_summary['start_date'].min() == pd.Timestamp(2015,4,1))\n",
        "assert(mo_summary['end_date'].max() == pd.Timestamp(2018,6,30))\n",
        "assert(mo_summary.shape == (108,3))\n",
        "assert(mo_summary.loc['BARNES JEWISH HOSPITAL'].number == 131313)\n",
        "assert(mo_summary.loc['BOONE HOSPITAL CENTER'].number == 63099)"
      ]
    },
    {
      "cell_type": "markdown",
      "metadata": {
        "id": "zVAbHY_6aTpU"
      },
      "source": [
        "---\n",
        "\n",
        "### 47.2 Planning your final project\n",
        "\n",
        "You should be thinking about the things we've been learning and how you can apply them to your final project.  Use the rubric to help guid your thinking and then answer the questions below.  This is meant as a guide to help you think through what you will do."
      ]
    },
    {
      "cell_type": "markdown",
      "metadata": {
        "id": "wG6BubkzaTpU"
      },
      "source": [
        "For final project I am going to use datasets from different websites they are\n",
        "\n",
        "HealthData.gov this site is mainly designed to access data to entrepreneurs, researchers and policy makers for better health outcomes. I have downloaded CSV file for obesity from this website. https://healthdata.gov/dataset/Normal-weight-overweight-and-obesity-among-adults-/c8wy-f8ar/data?no_mobile=true\n",
        "AmeriGEOSS this community platform is under GEOSS, the data from this source provides details on discovery, access and usability of data, tools and services for analysis, decision making and understanding. I have downloaded JSON file from this website. https://data.amerigeoss.org/dataset/national-obesity-by-state/resource/b98f25e7-3ee3-4c6a-a14b-102fa757ec2a\n",
        "\n",
        "CDC is the nation's leading science-based, data-driven, service organization that protects the public's health. I have downloaded xlsx file from this website. https://ftp.cdc.gov/pub/health_Statistics/NCHs/Publications/Health_US/hus19tables/Table027.xlsx"
      ]
    },
    {
      "cell_type": "markdown",
      "metadata": {
        "id": "jc1Ike54aTpU"
      },
      "source": [
        "#### B. Data Formats\n",
        "\n",
        "Your project should include data that comes in different file formats.  For example: HL7, EDI, HTML, CSV, Excel, JSON, XML.  List what data formats you're planning to use."
      ]
    },
    {
      "cell_type": "markdown",
      "metadata": {
        "id": "GR4y6Dg-aTpU"
      },
      "source": [
        "I am planing to use CSV, JSON, xlsx files for this project"
      ]
    },
    {
      "cell_type": "markdown",
      "metadata": {
        "id": "RqT761DJaTpU"
      },
      "source": [
        "#### C. Objective\n",
        "\n",
        "What purpose would your project serve in a real work setting?  Take a couple of paragraphs to write down why this is an interesting product."
      ]
    },
    {
      "cell_type": "markdown",
      "source": [
        "Since obesity is a major public health concern in the United States, this project can target it can have an impact in real-world situations by offering individualized, data-driven solutions. It might lower the risk of chronic illnesses, assist people in making long-lasting lifestyle adjustments, and enhance general wellbeing. Such a project might lower healthcare expenses, increase worker productivity, and health-conscious culture in workplaces. The data can provide personalized interventions based on individual criteria by utilizing technology, such as wearables or smartphone apps, guaranteeing more successful results. This individualized strategy would close a gap in the available treatments for obesity and provide scalable, long-term advantages. so this is the reason i have choosen Obesity."
      ],
      "metadata": {
        "id": "KXAJbj3Gmbkk"
      }
    }
  ],
  "metadata": {
    "kernelspec": {
      "display_name": "Python 3",
      "language": "python",
      "name": "python3"
    },
    "language_info": {
      "codemirror_mode": {
        "name": "ipython",
        "version": 3
      },
      "file_extension": ".py",
      "mimetype": "text/x-python",
      "name": "python",
      "nbconvert_exporter": "python",
      "pygments_lexer": "ipython3",
      "version": "3.9.16"
    },
    "colab": {
      "provenance": [],
      "include_colab_link": true
    }
  },
  "nbformat": 4,
  "nbformat_minor": 0
}