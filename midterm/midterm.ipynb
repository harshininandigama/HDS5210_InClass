{
  "cells": [
    {
      "cell_type": "markdown",
      "metadata": {
        "id": "view-in-github",
        "colab_type": "text"
      },
      "source": [
        "<a href=\"https://colab.research.google.com/github/harshininandigama/HDS5210_InClass/blob/master/midterm/midterm.ipynb\" target=\"_parent\"><img src=\"https://colab.research.google.com/assets/colab-badge.svg\" alt=\"Open In Colab\"/></a>"
      ]
    },
    {
      "cell_type": "markdown",
      "metadata": {
        "id": "BryenLgAlh0c"
      },
      "source": [
        "### Mid-term for HDS5210\n",
        "\n",
        "Your supervisor is concerned about 4-year survival risks for COPD. She has asked for you to do some analysis using a new metric, BODE. BODE is an improvement on a previous metric and promises to provide insight on survival risks.\n",
        "\n",
        "BODE is defined here. https://www.mdcalc.com/calc/3916/bode-index-copd-survival#evidence\n",
        "\n",
        "Your assignment is to create a BODE calculation, use it to calculate BODE scores and BODE survival rates for a group of patients. Then we want to evaluate the average BODE scores and BODE survival rates for each area hospital.\n",
        "\n",
        "Your patient input file will have the following columns:\n",
        "NAME,SSN,LANGUAGE,JOB,HEIGHT_M,WEIGHT_KG,fev_pct,dyspnea_description,distance_in_meters,hospital\n",
        "\n",
        "BODE calculations require a BMI value, so you will have to create a function for it.\n",
        "\n",
        "Your output should be in the form of two CSV files, patient_output.csv and hospital_output.csv.\n",
        "\n",
        "Patient_output will have the following columns:\n",
        "NAME,BODE_SCORE,BODE_RISK,HOSPITAL\n",
        "\n",
        "Hospital output will have the following columns:\n",
        "HOSPITAL_NAME, COPD_COUNT, PCT_OF_COPD_CASES_OVER_BEDS, AVG_SCORE, AVG_RISK\n",
        "\n",
        "Each function you create should have documentation and a suitable number of test cases. If the input data could be wrong, make sure to raise a Value Error.\n",
        "\n",
        "For this assignment, use the doctest, json, and csv libraries. Pandas is not allowed for this assignment."
      ]
    },
    {
      "cell_type": "code",
      "execution_count": 2,
      "metadata": {
        "id": "dgJUB-TDlh0d"
      },
      "outputs": [],
      "source": [
        "import doctest\n",
        "import json\n",
        "import csv"
      ]
    },
    {
      "cell_type": "markdown",
      "metadata": {
        "id": "BjkYMWhIlh0e"
      },
      "source": [
        "### Step 1: Calculate BMI"
      ]
    },
    {
      "cell_type": "code",
      "execution_count": 10,
      "metadata": {
        "id": "hg-ps8W_lh0e",
        "outputId": "a12ffd4d-e8ee-441b-b0d6-60254ca91bc7",
        "colab": {
          "base_uri": "https://localhost:8080/"
        }
      },
      "outputs": [
        {
          "output_type": "stream",
          "name": "stdout",
          "text": [
            "22.857142857142858\n",
            "19.531249999999996\n"
          ]
        }
      ],
      "source": [
        "def compute_bmi(weight_kg, height_m):\n",
        "    ''' calculate BMI using height in meter and weight in kg.\n",
        "    : weight in kg\n",
        "    : height in meters\n",
        "    : return calculated BMI\n",
        "    : raise ValueError if both height and weight is non-positive '''\n",
        "    if  weight_kg<= 0 or height_m <= 0:\n",
        "        raise ValueError\n",
        "    return weight_kg / (height_m * height_m)\n",
        "\n",
        "# Test Case 1:\n",
        "print(compute_bmi(70, 1.75))\n",
        "# Test Case 2:\n",
        "print(compute_bmi(50, 1.6))"
      ]
    },
    {
      "cell_type": "markdown",
      "metadata": {
        "id": "BfPBTwRdlh0e"
      },
      "source": [
        "### Step 2: Calculate BODE Score"
      ]
    },
    {
      "cell_type": "code",
      "execution_count": 25,
      "metadata": {
        "id": "vgu0_Dl4lh0e",
        "outputId": "205f25fe-2b95-49ac-d253-0224c597b06f",
        "colab": {
          "base_uri": "https://localhost:8080/"
        }
      },
      "outputs": [
        {
          "output_type": "stream",
          "name": "stdout",
          "text": [
            "3\n",
            "11\n"
          ]
        }
      ],
      "source": [
        "def calculate_bode_score(bmi, fev_pct, dyspnea_level, distance_m):\n",
        "    \"\"\"\n",
        "    Compute the BODE score based on the provided parameters.\n",
        "    Body Mass Index (float)\n",
        "    FEV1 percentage (float)\n",
        "    Level of dyspnea described\n",
        "    Distance covered in meters during a 6-minute walk test\n",
        "    Return total BODE score\n",
        "    Raises ValueError\n",
        "    \"\"\"\n",
        "\n",
        "    # BMI\n",
        "    bmi_score =  1 if bmi <= 21 else 0\n",
        "\n",
        "    # FEV1\n",
        "    if fev_pct >= 65:\n",
        "        fev_score = 0\n",
        "    elif fev_pct >= 50:\n",
        "        fev_score = 1\n",
        "    elif fev_pct >= 36:\n",
        "        fev_score = 2\n",
        "    elif fev_pct < 36:\n",
        "        fev_score = 3\n",
        "    else:\n",
        "        raise ValueError\n",
        "\n",
        "    # Dyspnea score mapping\n",
        "    dyspnea_scores = {\n",
        "        \"Only breathless with strenuous exercise\": 0,\n",
        "        \"Breathless when hurrying or walking uphill\": 1,\n",
        "        \"Walks slower, stops for breath\": 2,\n",
        "        \"Stops for breath after 100 yards or a few minutes on level ground\": 3,\n",
        "        \"Too breathless to leave house or while dressing\": 4\n",
        "    }\n",
        "\n",
        "    if dyspnea_level not in dyspnea_scores:\n",
        "        raise ValueError\n",
        "\n",
        "    dyspnea_score = dyspnea_scores[dyspnea_level]\n",
        "\n",
        "    # Distance score\n",
        "    if distance_m >= 350:\n",
        "        distance_score = 0\n",
        "    elif distance_m >= 250:\n",
        "        distance_score = 1\n",
        "    elif distance_m >= 150:\n",
        "        distance_score = 2\n",
        "    else:\n",
        "        distance_score = 3\n",
        "\n",
        "    # Total BODE score\n",
        "    return bmi_score + fev_score + dyspnea_score + distance_score\n",
        "\n",
        "# Test Case 1: normal parameter\n",
        "bmi = 22.5\n",
        "fev_pct = 60\n",
        "dyspnea_level = \"Breathless when hurrying or walking uphill\"\n",
        "distance_m = 270\n",
        "print(calculate_bode_score(bmi, fev_pct, dyspnea_level, distance_m))\n",
        "\n",
        "# Test Case 2: edge case with severe dyspensia\n",
        "bmi = 20.0\n",
        "fev_pct = 30\n",
        "dyspnea_level = \"Too breathless to leave house or while dressing\"\n",
        "distance_m = 50\n",
        "print(calculate_bode_score(bmi, fev_pct, dyspnea_level, distance_m))"
      ]
    },
    {
      "cell_type": "markdown",
      "metadata": {
        "id": "1MDgXpU6lh0e"
      },
      "source": [
        "### Step 3: Calculate BODE Risk"
      ]
    },
    {
      "cell_type": "code",
      "execution_count": 52,
      "metadata": {
        "id": "K-cBuuRslh0e",
        "outputId": "a04290a9-af6b-4d99-a7b9-f19c9d6dc1a4",
        "colab": {
          "base_uri": "https://localhost:8080/"
        }
      },
      "outputs": [
        {
          "output_type": "stream",
          "name": "stdout",
          "text": [
            "80\n",
            "18\n"
          ]
        }
      ],
      "source": [
        "def bode_risk(score):\n",
        "    \"\"\"\n",
        "    calculate BODE risk based on provided score\n",
        "\n",
        "    BODE score (int)\n",
        "    Return 4-year survival risk percentage (int)\n",
        "    Raises ValueError if score not in range 0 to 10\n",
        "    \"\"\"\n",
        "    if not ( 0 <= score <= 10):\n",
        "        raise ValueError\n",
        "\n",
        "    survival_risks = {\n",
        "        (0, 2): 80,   # 80% survival for scores 0 to 2\n",
        "        (3, 4): 67,   # 67% survival for scores 3 to 4\n",
        "        (5, 6): 57,   # 57% survival for scores 5 to 6\n",
        "        (7, 10): 18   # 18% survival for scores 7 to 10\n",
        "    }\n",
        "\n",
        "    for range_tuple, risk in survival_risks.items():\n",
        "        if range_tuple[0] <= score <= range_tuple[1]:\n",
        "            return risk\n",
        "    raise ValueError\n",
        "\n",
        "# Test Case 1: Low BODE score\n",
        "score = 2\n",
        "print(bode_risk(score))\n",
        "# Test Case 2: High BODE score\n",
        "score = 8\n",
        "print(bode_risk(score))"
      ]
    },
    {
      "cell_type": "markdown",
      "metadata": {
        "id": "7T2mKFLBlh0e"
      },
      "source": [
        "### Step 4: Load Hospital Data"
      ]
    },
    {
      "cell_type": "code",
      "execution_count": 73,
      "metadata": {
        "id": "Xe5FPT4Glh0e",
        "outputId": "f51dad7a-fc35-4e8a-84be-2d084435225b",
        "colab": {
          "base_uri": "https://localhost:8080/"
        }
      },
      "outputs": [
        {
          "output_type": "stream",
          "name": "stdout",
          "text": [
            "Loaded 1000 patients from /content/patient.csv.\n",
            "Loaded 3 hospitals from /content/hospitals.json.\n"
          ]
        }
      ],
      "source": [
        "import csv\n",
        "import json\n",
        "\n",
        "# patients data\n",
        "def load_patient_data(file_path):\n",
        "    \"\"\"\n",
        "    Load patient data from a CSV file\n",
        "    \"\"\"\n",
        "    required_columns = {'NAME', 'HEIGHT_M', 'WEIGHT_KG', 'fev_pct', 'dyspnea_description', 'distance_in_meters', 'hospital'}\n",
        "    patient_data = []\n",
        "\n",
        "    with open(file_path, mode='r') as file:\n",
        "        reader = csv.DictReader(file)\n",
        "\n",
        "        # Check for missing columns\n",
        "        missing_cols = required_columns - set(reader.fieldnames)\n",
        "        if missing_cols:\n",
        "            raise ValueError(f\"Missing columns: {missing_cols}\")\n",
        "\n",
        "        for row in reader:\n",
        "            try:\n",
        "                patient_data.append({\n",
        "                    'NAME': row['NAME'],\n",
        "                    'HEIGHT_M': float(row['HEIGHT_M']),\n",
        "                    'WEIGHT_KG': float(row['WEIGHT_KG']),\n",
        "                    'fev_pct': float(row['fev_pct']),\n",
        "                    'dyspnea_description': row['dyspnea_description'],\n",
        "                    'distance_in_meters': float(row['distance_in_meters']),\n",
        "                    'hospital': row['hospital']\n",
        "                })\n",
        "            except (ValueError, KeyError) as e:\n",
        "                name = row.get('NAME', 'Unknown')\n",
        "                print(f\"Skipping {name} due to error: {e}\")\n",
        "\n",
        "    return patient_data\n",
        "\n",
        "# Load patient data\n",
        "try:\n",
        "    patients = load_patient_data('/content/patient.csv')\n",
        "    print(f\"Loaded {len(patients)} patients from {'/content/patient.csv'}.\")\n",
        "except ValueError as e:\n",
        "    print(f\"Error loading patient data: {e}\")\n",
        "\n",
        "# hospital data\n",
        "def load_hospital_info(json_path):\n",
        "    \"\"\"\n",
        "    Load hospital information from a JSON file.\n",
        "    \"\"\"\n",
        "    try:\n",
        "        with open(json_path, 'r') as json_file:\n",
        "            return json.load(json_file)\n",
        "    except json.JSONDecodeError as e:\n",
        "        raise ValueError(f\"Error decoding JSON: {e}\")\n",
        "\n",
        "# Load hospital data\n",
        "try:\n",
        "    hospitals = load_hospital_info('/content/hospitals.json')\n",
        "    print(f\"Loaded {len(hospitals)} hospitals from {'/content/hospitals.json'}.\")\n",
        "except ValueError as e:\n",
        "    print(f\"Error loading hospital data: {e}\")"
      ]
    },
    {
      "cell_type": "markdown",
      "metadata": {
        "id": "Nx08iM4qlh0e"
      },
      "source": [
        "### Step 5: Main business logic\n",
        "\n",
        "Call BODE Score, BODE Risk functions for each patient.\n",
        "\n",
        "For each hospital, calculate Avg BODE score and Avg BODE risk and count the number of cases for each hospital."
      ]
    },
    {
      "cell_type": "code",
      "execution_count": 74,
      "metadata": {
        "id": "Kq32veWllh0f",
        "outputId": "d3e3ce39-d876-4d6e-a123-414b87fe488b",
        "colab": {
          "base_uri": "https://localhost:8080/"
        }
      },
      "outputs": [
        {
          "output_type": "stream",
          "name": "stdout",
          "text": [
            "Patient Results: [['Vanessa Roberts', \"ST.LUKE'S\", 46.0, 4.6], ['Christopher Fox', 'SAINT LOUIS UNIVERSITY', 42.365, 4.2365], ['Benjamin Johnston', 'BJC', 48.26, 4.826], ['Christopher Hernandez', 'MISSOURI BAPTIST', 41.61, 4.161], ['Valerie Burch', 'BJC WEST COUNTY', 43.144999999999996, 4.3145], ['Heather Hart', 'SAINT LOUIS UNIVERSITY', 42.455000000000005, 4.245500000000001], ['Ronald Cobb', \"ST.MARY'S\", 51.089999999999996, 5.109], ['Austin French', 'SAINT LOUIS UNIVERSITY', 58.69, 5.869], ['Mary Leonard', 'BJC', 40.455, 4.0455], ['Mrs. Nicole Smith', \"ST.MARY'S\", 50.675000000000004, 5.067500000000001], ['Ashley Warren', 'BJC', 52.74, 5.274], ['Jeffrey Jacobson', 'BJC WEST COUNTY', 40.125, 4.0125], ['Angela Bauer', 'BJC WEST COUNTY', 43.32, 4.332], ['Jerry Rogers', 'BJC', 51.835, 5.1835], ['Lisa Beck', 'BJC', 55.645, 5.564500000000001], ['Bryan Pena', 'SAINT LOUIS UNIVERSITY', 55.765, 5.5765], ['Jessica Henderson', 'SAINT LOUIS UNIVERSITY', 42.3, 4.2299999999999995], ['Daniel Mitchell', 'MISSOURI BAPTIST', 55.79, 5.579], ['Melanie Graham', 'BJC', 59.495, 5.9495], ['Deborah Jimenez', 'MISSOURI BAPTIST', 44.24, 4.424], ['Kathryn Rasmussen', 'BJC WEST COUNTY', 41.765, 4.1765], ['Brian Leon', 'BJC', 51.325, 5.1325], ['Robert Walker', 'MISSOURI BAPTIST', 51.535000000000004, 5.1535], ['Drew Case', 'MISSOURI BAPTIST', 55.205, 5.5205], ['Joshua Finley', \"ST.LUKE'S\", 55.09, 5.509], ['Danny Smith', 'BJC', 47.37, 4.737], ['Jennifer Smith', 'SAINT LOUIS UNIVERSITY', 45.19, 4.519], ['John Figueroa', \"ST.LUKE'S\", 52.585, 5.2585], ['William Whitehead', \"ST.MARY'S\", 53.12, 5.311999999999999], ['Paul Trujillo', \"ST.LUKE'S\", 54.214999999999996, 5.4215], ['Tiffany Lewis', 'SAINT LOUIS UNIVERSITY', 40.575, 4.0575], ['Randall Horn', \"ST.MARY'S\", 41.230000000000004, 4.123], ['Christopher Maldonado', 'MISSOURI BAPTIST', 45.239999999999995, 4.523999999999999], ['Darren Fletcher', 'BJC WEST COUNTY', 48.31, 4.831], ['Nathan Arnold', 'SAINT LOUIS UNIVERSITY', 52.6, 5.26], ['Jamie Reeves', \"ST.LUKE'S\", 42.765, 4.2765], ['Ian Murphy', 'MISSOURI BAPTIST', 43.655, 4.3655], ['Edward Blackwell', 'MISSOURI BAPTIST', 47.25, 4.725], ['Allen Lee', \"ST.MARY'S\", 49.655, 4.9655000000000005], ['Anthony Dorsey', 'MISSOURI BAPTIST', 52.46, 5.246], ['John Fitzpatrick', \"ST.MARY'S\", 50.03, 5.003], ['Erin Ortiz', \"ST.MARY'S\", 42.595, 4.2595], ['Amanda Garcia', 'MISSOURI BAPTIST', 46.68, 4.668], ['Michael Rangel', \"ST.LUKE'S\", 42.254999999999995, 4.225499999999999], ['John Snyder', 'BJC WEST COUNTY', 47.48, 4.747999999999999], ['Dana Mcdonald', \"ST.MARY'S\", 50.25, 5.025], ['Selena Rocha', 'BJC WEST COUNTY', 59.334999999999994, 5.9334999999999996], ['Anna Lopez', 'MISSOURI BAPTIST', 46.34, 4.634], ['Keith Smith', 'MISSOURI BAPTIST', 45.06, 4.506], ['Bryan Smith', 'MISSOURI BAPTIST', 44.58, 4.458], ['Jennifer Tyler', 'BJC WEST COUNTY', 59.255, 5.9255], ['Lynn Black', \"ST.LUKE'S\", 52.78, 5.2780000000000005], ['Alan Johnson', 'BJC WEST COUNTY', 52.440000000000005, 5.244000000000001], ['Melinda Summers', 'MISSOURI BAPTIST', 41.865, 4.1865000000000006], ['Larry Waters', 'MISSOURI BAPTIST', 50.44, 5.044], ['Roy Alvarez', 'SAINT LOUIS UNIVERSITY', 48.184999999999995, 4.818499999999999], ['David Wong', 'MISSOURI BAPTIST', 50.11, 5.011], ['Pedro Kelly', \"ST.LUKE'S\", 48.95, 4.8950000000000005], ['David Robertson', \"ST.LUKE'S\", 43.39, 4.339], ['William Mayo', 'MISSOURI BAPTIST', 41.2, 4.12], ['Beth Perkins', 'BJC WEST COUNTY', 50.63, 5.063000000000001], ['Robert Pierce', \"ST.LUKE'S\", 43.855000000000004, 4.3855], ['Rebecca Jones', \"ST.LUKE'S\", 58.6, 5.86], ['Christina Johnson', 'SAINT LOUIS UNIVERSITY', 57.425, 5.7425], ['Denise Powell', 'BJC WEST COUNTY', 43.8, 4.38], ['Patrick Costa', \"ST.LUKE'S\", 47.375, 4.7375], ['Scott Campbell', \"ST.MARY'S\", 50.39, 5.039], ['Cassandra Flores', 'MISSOURI BAPTIST', 54.185, 5.4185], ['Brandon Lee', \"ST.MARY'S\", 48.675, 4.8675], ['Katie Reed', \"ST.LUKE'S\", 54.645, 5.4645], ['Thomas Gonzalez', \"ST.LUKE'S\", 41.22, 4.122], ['Kayla Mcdowell', \"ST.LUKE'S\", 57.16, 5.715999999999999], ['Edward Wallace', \"ST.LUKE'S\", 54.940000000000005, 5.494000000000001], ['Laura Chaney', \"ST.LUKE'S\", 51.59, 5.159000000000001], ['Dr. William Clark II', 'BJC', 45.615, 4.5615000000000006], ['Jared Sherman', 'BJC WEST COUNTY', 56.18, 5.618], ['David Martin', 'SAINT LOUIS UNIVERSITY', 40.57, 4.057], ['Yolanda Hall', \"ST.LUKE'S\", 47.285, 4.7284999999999995], ['Jasmine Brown', \"ST.LUKE'S\", 46.665, 4.6665], ['Laurie Campbell', 'BJC', 49.975, 4.9975000000000005], ['Dillon Jones', 'MISSOURI BAPTIST', 49.115, 4.9115], ['Stephen Perez', 'MISSOURI BAPTIST', 44.385000000000005, 4.4385], ['James Walls', 'SAINT LOUIS UNIVERSITY', 47.4, 4.74], ['Ronnie Mathews', \"ST.LUKE'S\", 41.675000000000004, 4.1675], ['Melissa Thompson', 'BJC', 44.525000000000006, 4.452500000000001], ['Misty Leonard', \"ST.MARY'S\", 42.08, 4.208], ['Monica Bradford', 'SAINT LOUIS UNIVERSITY', 48.085, 4.8085], ['Angela Jordan', 'MISSOURI BAPTIST', 54.459999999999994, 5.446], ['Stephanie Brown', \"ST.LUKE'S\", 40.44, 4.044], ['Anthony Davis', 'MISSOURI BAPTIST', 56.255, 5.625500000000001], ['Maria Davis', 'SAINT LOUIS UNIVERSITY', 51.35, 5.135], ['Kelly Patterson', \"ST.MARY'S\", 46.714999999999996, 4.6715], ['Ryan Pittman Jr.', \"ST.LUKE'S\", 58.33, 5.833], ['Jonathan Stein', 'SAINT LOUIS UNIVERSITY', 48.72, 4.872], ['Alex Cooper', 'BJC', 47.82, 4.782], ['Kelly Jordan', 'MISSOURI BAPTIST', 41.635, 4.1635], ['Andrea Lopez', \"ST.MARY'S\", 53.365, 5.3365], ['Paul Tucker', \"ST.LUKE'S\", 43.615, 4.3615], ['Cynthia Murphy', 'BJC WEST COUNTY', 42.995000000000005, 4.2995], ['Matthew Lewis', 'BJC WEST COUNTY', 40.25, 4.025], ['Austin Sanders', 'BJC', 50.045, 5.0045], ['Ronald Phillips', 'SAINT LOUIS UNIVERSITY', 44.589999999999996, 4.459], ['John Snow', 'BJC', 55.615, 5.5615000000000006], ['Joan Hahn', 'BJC', 58.725, 5.8725000000000005], ['Daniel Camacho', 'BJC WEST COUNTY', 48.405, 4.8405000000000005], ['Gary Martin', 'BJC WEST COUNTY', 55.934999999999995, 5.5935], ['Christina Moyer', 'MISSOURI BAPTIST', 47.29, 4.729], ['Derek Gibson', 'MISSOURI BAPTIST', 53.425, 5.342499999999999], ['Michael Fox', \"ST.LUKE'S\", 59.325, 5.9325], ['Alex Terry', 'BJC', 51.705, 5.1705], ['Kelsey Hill', 'SAINT LOUIS UNIVERSITY', 56.214999999999996, 5.621499999999999], ['Dana Wise', 'SAINT LOUIS UNIVERSITY', 47.675, 4.7675], ['William Hughes', 'SAINT LOUIS UNIVERSITY', 40.18, 4.018], ['Cassandra Holt', 'BJC', 47.33, 4.733], ['Dr. Christopher Henderson', 'MISSOURI BAPTIST', 48.470000000000006, 4.847], ['Amanda Cox', 'BJC', 41.050000000000004, 4.105], ['Morgan Kirk', 'SAINT LOUIS UNIVERSITY', 43.17, 4.317], ['Scott Jones', \"ST.LUKE'S\", 48.215, 4.8215], ['Chelsea Bailey', \"ST.MARY'S\", 59.565, 5.9565], ['Andrew Vasquez', 'BJC WEST COUNTY', 40.85, 4.085], ['Michelle Lyons', 'SAINT LOUIS UNIVERSITY', 59.15, 5.915], ['Shelley Williams', 'MISSOURI BAPTIST', 43.605000000000004, 4.3605], ['Elizabeth Jimenez', 'BJC WEST COUNTY', 53.775, 5.3774999999999995], ['Julia Sanders', 'SAINT LOUIS UNIVERSITY', 57.835, 5.7835], ['Kimberly Cox', 'BJC', 48.955, 4.8955], ['Bryan Pearson', \"ST.MARY'S\", 45.38, 4.538], ['Taylor Stewart', \"ST.MARY'S\", 54.205000000000005, 5.4205000000000005], ['Catherine Lindsey', 'SAINT LOUIS UNIVERSITY', 50.82, 5.082], ['Justin Daniels', 'MISSOURI BAPTIST', 55.434999999999995, 5.5435], ['Chad Perez', 'BJC', 54.16, 5.4159999999999995], ['Amy Harper', 'MISSOURI BAPTIST', 48.8, 4.88], ['Monica Williamson', 'BJC WEST COUNTY', 49.89, 4.989], ['Todd Austin', 'MISSOURI BAPTIST', 43.945, 4.3945], ['James Smith', 'SAINT LOUIS UNIVERSITY', 47.77, 4.777], ['Robert Lowe', 'BJC', 53.275, 5.3275], ['Amy Vasquez', 'MISSOURI BAPTIST', 57.195, 5.7195], ['Stephen Hess', \"ST.LUKE'S\", 56.300000000000004, 5.630000000000001], ['John Brown', \"ST.MARY'S\", 51.585, 5.1585], ['Robert Williams', 'BJC', 55.845, 5.5845], ['Daniel Hamilton', 'BJC WEST COUNTY', 54.015, 5.4015], ['Jennifer Diaz', 'BJC WEST COUNTY', 58.63999999999999, 5.863999999999999], ['Karen Taylor', \"ST.LUKE'S\", 41.755, 4.1755], ['Amy Mitchell', 'BJC', 42.585, 4.2585], ['Jacqueline Castillo', 'BJC WEST COUNTY', 45.894999999999996, 4.589499999999999], ['Samuel Santana', 'MISSOURI BAPTIST', 56.699999999999996, 5.67], ['Kevin Hartman', \"ST.LUKE'S\", 39.96, 3.996], ['Mr. Jeffrey Gomez', 'MISSOURI BAPTIST', 57.059999999999995, 5.7059999999999995], ['Antonio Greene', \"ST.MARY'S\", 56.105, 5.6105], ['Lindsey Lewis', 'BJC', 49.269999999999996, 4.927], ['Jennifer Perez', 'BJC', 42.894999999999996, 4.289499999999999], ['Tara Johns', 'SAINT LOUIS UNIVERSITY', 57.695, 5.7695], ['Matthew Roberts', \"ST.MARY'S\", 54.724999999999994, 5.472499999999999], ['Theresa Miller', \"ST.MARY'S\", 58.285000000000004, 5.8285], ['Michael Salinas', 'MISSOURI BAPTIST', 53.835, 5.3835], ['Leslie Hudson', \"ST.LUKE'S\", 46.38, 4.638], ['Daniel Gilmore', 'MISSOURI BAPTIST', 46.765, 4.6765], ['George Perez', 'BJC', 54.980000000000004, 5.498], ['Kristine Kelly', 'BJC WEST COUNTY', 45.155, 4.5155], ['Grant Clements', \"ST.MARY'S\", 42.48, 4.247999999999999], ['April Johnston', \"ST.LUKE'S\", 52.135, 5.2135], ['Jason Robinson', 'MISSOURI BAPTIST', 44.945, 4.4945], ['Dustin Brandt', 'BJC WEST COUNTY', 45.339999999999996, 4.534], ['Jack Dunn', 'SAINT LOUIS UNIVERSITY', 50.435, 5.0435], ['Patricia Watson', 'BJC', 40.475, 4.0475], ['Shirley Williams', 'BJC WEST COUNTY', 43.28, 4.328], ['Garrett Rivera', \"ST.MARY'S\", 55.394999999999996, 5.539499999999999], ['Shirley Jones', 'MISSOURI BAPTIST', 41.75, 4.175], ['Thomas Curtis', 'MISSOURI BAPTIST', 56.05, 5.6049999999999995], ['Antonio Hanson', \"ST.LUKE'S\", 45.99, 4.599], ['Pamela Roberts', 'SAINT LOUIS UNIVERSITY', 50.010000000000005, 5.001], ['Andrea Kim', 'SAINT LOUIS UNIVERSITY', 50.115, 5.0115], ['Michael West', \"ST.LUKE'S\", 53.74, 5.3740000000000006], ['Diana Perez', 'BJC WEST COUNTY', 44.42, 4.442], ['Steve Jones', \"ST.LUKE'S\", 53.76, 5.3759999999999994], ['Kerry Ali', 'SAINT LOUIS UNIVERSITY', 41.86, 4.186], ['Megan Jenkins', 'BJC', 51.605000000000004, 5.160500000000001], ['Michael Kennedy', \"ST.LUKE'S\", 42.225, 4.2225], ['Vicki Riley', 'SAINT LOUIS UNIVERSITY', 55.86, 5.586], ['Eric Parks', 'BJC', 39.980000000000004, 3.998], ['James Avery', 'BJC', 45.040000000000006, 4.5040000000000004], ['Patrick Berry', 'MISSOURI BAPTIST', 50.265, 5.0265], ['Connie Campbell', 'BJC WEST COUNTY', 41.5, 4.15], ['Terri Kelly MD', 'MISSOURI BAPTIST', 55.2, 5.5200000000000005], ['Cristian Cruz', 'BJC', 45.129999999999995, 4.513], ['David King', 'MISSOURI BAPTIST', 53.82, 5.382], ['Sarah Hogan', 'SAINT LOUIS UNIVERSITY', 44.895, 4.4895000000000005], ['Cassandra Stone', \"ST.LUKE'S\", 41.47, 4.147], ['Andrea Perkins', \"ST.MARY'S\", 47.955, 4.7955], ['Daniel Abbott', 'BJC', 45.035, 4.5035], ['Steve Black', 'SAINT LOUIS UNIVERSITY', 42.35, 4.235], ['David Hanson', 'SAINT LOUIS UNIVERSITY', 54.37, 5.436999999999999], ['Denise Buchanan', 'MISSOURI BAPTIST', 53.8, 5.38], ['Jennifer Adams', 'MISSOURI BAPTIST', 40.480000000000004, 4.048], ['Carrie Jackson', 'BJC WEST COUNTY', 52.17, 5.2170000000000005], ['Zachary Hines', \"ST.MARY'S\", 42.76, 4.276], ['Brian Morgan', \"ST.MARY'S\", 56.83, 5.683], ['Wanda Olson', 'BJC', 43.97, 4.397], ['Jennifer Contreras', 'BJC', 59.440000000000005, 5.944000000000001], ['Robert Ferguson', \"ST.MARY'S\", 54.714999999999996, 5.4715], ['Savannah Webb', 'MISSOURI BAPTIST', 54.31, 5.431], ['Catherine Christian', \"ST.LUKE'S\", 49.605, 4.9605], ['Briana Reed', 'BJC WEST COUNTY', 50.085, 5.0085], ['Michael Garcia', \"ST.LUKE'S\", 53.055, 5.3055], ['William Smith', \"ST.LUKE'S\", 46.92, 4.692], ['Christopher Houston', \"ST.MARY'S\", 49.089999999999996, 4.909], ['Joanne Rivera', 'BJC WEST COUNTY', 49.04, 4.904], ['Lisa Lopez', 'MISSOURI BAPTIST', 54.115, 5.4115], ['Nancy Shelton', \"ST.LUKE'S\", 48.155, 4.8155], ['Caitlin Little', \"ST.LUKE'S\", 44.195, 4.4195], ['Susan Watts', 'BJC WEST COUNTY', 41.82, 4.182], ['Dana Wilson', \"ST.MARY'S\", 49.480000000000004, 4.948], ['Thomas Lopez', \"ST.LUKE'S\", 46.224999999999994, 4.6225], ['David Miles', 'BJC', 54.75, 5.475], ['Derrick Henderson', 'MISSOURI BAPTIST', 54.405, 5.4405], ['Christine Smith', 'SAINT LOUIS UNIVERSITY', 42.824999999999996, 4.2825], ['Tara Ramsey', 'BJC WEST COUNTY', 47.515, 4.7515], ['Barbara Cummings', \"ST.LUKE'S\", 48.96, 4.896], ['Eric Kim', 'MISSOURI BAPTIST', 49.345, 4.9345], ['Ashley Cruz', 'BJC', 46.36, 4.636], ['Nicole Davis', 'MISSOURI BAPTIST', 52.12, 5.212], ['Robert Marshall', \"ST.LUKE'S\", 57.76, 5.776], ['Terri Phillips', \"ST.MARY'S\", 57.214999999999996, 5.7215], ['Bradley Zavala', 'SAINT LOUIS UNIVERSITY', 52.099999999999994, 5.209999999999999], ['Erin Turner', \"ST.MARY'S\", 43.8, 4.38], ['Jackie Lee', 'SAINT LOUIS UNIVERSITY', 55.215, 5.5215000000000005], ['Joseph Burnett', 'SAINT LOUIS UNIVERSITY', 44.305, 4.4305], ['Cassandra Marks', \"ST.LUKE'S\", 46.22, 4.622], ['Steven Massey', 'SAINT LOUIS UNIVERSITY', 52.540000000000006, 5.2540000000000004], ['Anthony Summers', 'BJC WEST COUNTY', 42.305, 4.2305], ['Brian Sullivan', 'MISSOURI BAPTIST', 56.555, 5.6555], ['Shirley Garcia', \"ST.LUKE'S\", 51.95, 5.195], ['Anthony Cruz', 'BJC WEST COUNTY', 46.825, 4.6825], ['Barbara Miller', \"ST.MARY'S\", 46.199999999999996, 4.619999999999999], ['Margaret Bartlett', 'BJC', 52.01, 5.201], ['Rebecca Hunter', 'BJC', 56.48, 5.648], ['Andrew Cabrera', 'BJC WEST COUNTY', 55.63, 5.563000000000001], ['Jeremy Mitchell', 'BJC', 49.705, 4.9704999999999995], ['Erin Gonzalez', \"ST.LUKE'S\", 41.66, 4.1659999999999995], ['James Powell', 'MISSOURI BAPTIST', 55.4, 5.54], ['William Bailey', \"ST.MARY'S\", 54.205, 5.4205], ['Megan White', \"ST.MARY'S\", 52.605, 5.2604999999999995], ['William Murphy', 'BJC', 43.24, 4.324], ['Robert Rodriguez', 'SAINT LOUIS UNIVERSITY', 45.04, 4.504], ['David Mcdonald', \"ST.MARY'S\", 55.144999999999996, 5.5145], ['Jennifer Hart', 'SAINT LOUIS UNIVERSITY', 51.235, 5.1235], ['Anna Clark', \"ST.MARY'S\", 49.22, 4.922], ['Joseph Welch', \"ST.MARY'S\", 50.919999999999995, 5.092], ['Katrina Gilmore', 'BJC', 52.095, 5.2095], ['Peter Jefferson', 'BJC', 56.085, 5.6085], ['Jesse Crawford', 'BJC WEST COUNTY', 58.06, 5.806], ['Tracy Vaughan', 'MISSOURI BAPTIST', 53.894999999999996, 5.3895], ['James Ryan', 'BJC', 51.115, 5.1115], ['Jordan Richards', 'SAINT LOUIS UNIVERSITY', 59.730000000000004, 5.973000000000001], ['Jennifer Walton', 'SAINT LOUIS UNIVERSITY', 57.87, 5.787], ['Kathleen Pineda', 'SAINT LOUIS UNIVERSITY', 46.865, 4.6865000000000006], ['William Gray', 'MISSOURI BAPTIST', 52.330000000000005, 5.2330000000000005], ['Andrea Mccarthy', 'BJC WEST COUNTY', 53.655, 5.3655], ['Todd Murphy', 'MISSOURI BAPTIST', 46.835, 4.6835], ['William Owens', \"ST.LUKE'S\", 44.75, 4.475], ['Valerie Hansen', \"ST.MARY'S\", 52.665, 5.2665], ['Travis Flores', \"ST.MARY'S\", 53.86, 5.386], ['James Hernandez', 'MISSOURI BAPTIST', 55.48, 5.548], ['Christopher Bowers', 'BJC WEST COUNTY', 45.46, 4.546], ['Vanessa Miller', 'MISSOURI BAPTIST', 42.89, 4.289], ['Joel Dunlap', \"ST.LUKE'S\", 42.675, 4.2675], ['Rachel Ortiz', 'MISSOURI BAPTIST', 43.85, 4.385], ['Erin Lyons', 'BJC WEST COUNTY', 57.985, 5.7985], ['Rachel Chen', 'SAINT LOUIS UNIVERSITY', 55.900000000000006, 5.590000000000001], ['Mary Wood', \"ST.LUKE'S\", 41.61, 4.161], ['Glenn Mcintosh', \"ST.MARY'S\", 46.915, 4.6915], ['Amber Patterson', \"ST.MARY'S\", 46.52, 4.652], ['George Smith', 'MISSOURI BAPTIST', 53.32, 5.332], ['Kayla Hammond', 'MISSOURI BAPTIST', 51.45, 5.1450000000000005], ['Aaron Shelton', 'MISSOURI BAPTIST', 59.455, 5.9455], ['Tara James', 'BJC', 46.24, 4.6240000000000006], ['Anne Ferguson', \"ST.LUKE'S\", 58.055, 5.8055], ['Joshua Ferguson', \"ST.MARY'S\", 40.220000000000006, 4.022], ['Pamela Martin', 'BJC', 58.23, 5.8229999999999995], ['Kristen Williams', 'BJC', 42.339999999999996, 4.234], ['Paul Donovan', 'BJC', 54.434999999999995, 5.443499999999999], ['Jill Krause', 'BJC WEST COUNTY', 42.150000000000006, 4.215000000000001], ['Thomas Smith', 'BJC WEST COUNTY', 56.89, 5.689], ['Shannon Fowler DDS', 'MISSOURI BAPTIST', 55.635, 5.5634999999999994], ['Daniel Burns', \"ST.MARY'S\", 53.875, 5.3875], ['Jonathan Silva', 'SAINT LOUIS UNIVERSITY', 44.475, 4.4475], ['Sheri Tanner', 'BJC WEST COUNTY', 47.165, 4.7165], ['Fred Clark', 'BJC WEST COUNTY', 49.315, 4.9315], ['Mrs. Tracy Mercer', 'BJC', 47.035, 4.7035], ['Ryan Reynolds', \"ST.LUKE'S\", 43.455, 4.3454999999999995], ['Kelsey Roberson', 'BJC WEST COUNTY', 44.839999999999996, 4.484], ['Jack Bonilla', \"ST.MARY'S\", 45.63, 4.563000000000001], ['Melissa Herrera', 'BJC WEST COUNTY', 57.230000000000004, 5.723000000000001], ['Lisa Robinson', 'BJC', 45.365, 4.5365], ['Megan Marshall', \"ST.MARY'S\", 42.715, 4.2715000000000005], ['Ricky Williams', 'BJC', 55.375, 5.5375], ['Brandon Wagner', \"ST.LUKE'S\", 58.355000000000004, 5.835500000000001], ['Gary Cox', 'MISSOURI BAPTIST', 40.1, 4.01], ['Edward Joyce', \"ST.LUKE'S\", 41.89, 4.189], ['Angela Cruz', 'BJC', 59.074999999999996, 5.9075], ['Billy Smith', 'BJC WEST COUNTY', 42.075, 4.2075000000000005], ['Steven Baker', \"ST.LUKE'S\", 48.955, 4.8955], ['Daniel Black', 'SAINT LOUIS UNIVERSITY', 44.625, 4.4625], ['Tyler Hill', \"ST.LUKE'S\", 44.129999999999995, 4.412999999999999], ['Stephanie Johnson', 'BJC WEST COUNTY', 46.755, 4.6755], ['Crystal Bryant', 'SAINT LOUIS UNIVERSITY', 51.785000000000004, 5.1785000000000005], ['Julie Ingram', 'BJC', 39.989999999999995, 3.9989999999999997], ['Danielle Mckenzie', 'BJC WEST COUNTY', 46.385, 4.6385], ['Craig Poole', 'BJC', 48.815, 4.8815], ['Melissa Lee', 'SAINT LOUIS UNIVERSITY', 55.035000000000004, 5.503500000000001], ['Rebecca Fox', 'MISSOURI BAPTIST', 41.775, 4.1775], ['Justin Le', 'SAINT LOUIS UNIVERSITY', 43.769999999999996, 4.377], ['Chad Gregory', 'BJC WEST COUNTY', 50.395, 5.0395], ['Marissa Park', 'SAINT LOUIS UNIVERSITY', 58.665, 5.8665], ['Sandra Smith', 'BJC', 46.335, 4.6335], ['Jason Tran', 'BJC WEST COUNTY', 49.895, 4.9895000000000005], ['Andrea Young', \"ST.LUKE'S\", 41.519999999999996, 4.151999999999999], ['Shelley Wilson', 'MISSOURI BAPTIST', 46.115, 4.6115], ['Robert Sharp', 'BJC WEST COUNTY', 57.910000000000004, 5.791], ['Stephanie Scott', \"ST.LUKE'S\", 48.28, 4.828], ['Amanda Griffith', 'MISSOURI BAPTIST', 56.38, 5.638], ['Rodney Smith', 'BJC WEST COUNTY', 41.375, 4.1375], ['Kaitlin Young', 'BJC WEST COUNTY', 52.019999999999996, 5.202], ['Darlene Reyes', 'BJC', 55.54, 5.554], ['Russell Murray', \"ST.LUKE'S\", 50.754999999999995, 5.0755], ['Bradley Parker', \"ST.LUKE'S\", 46.86, 4.686], ['Matthew Fischer', \"ST.LUKE'S\", 52.625, 5.2625], ['Vincent Berger', \"ST.LUKE'S\", 51.934999999999995, 5.193499999999999], ['Andrew Baker', 'BJC', 47.035, 4.7035], ['Angela Parsons', 'BJC WEST COUNTY', 44.26, 4.426], ['Victoria Baker', \"ST.LUKE'S\", 59.58, 5.958], ['Renee Hopkins', 'BJC WEST COUNTY', 54.09, 5.409000000000001], ['Leslie Hunter', 'MISSOURI BAPTIST', 54.26, 5.426], ['Susan Graham', 'BJC WEST COUNTY', 52.675, 5.2675], ['Timothy White', 'SAINT LOUIS UNIVERSITY', 43.480000000000004, 4.348000000000001], ['Shannon Hamilton', 'BJC WEST COUNTY', 50.74, 5.074], ['Brian Olson', \"ST.MARY'S\", 56.54, 5.654], ['Rodney Sherman', \"ST.MARY'S\", 40.245, 4.0245], ['Daniel Harris', 'BJC WEST COUNTY', 52.745, 5.2745], ['April Marks', \"ST.MARY'S\", 51.974999999999994, 5.1975], ['Michael Rose', 'BJC', 51.315000000000005, 5.131500000000001], ['Alexander Cervantes', 'SAINT LOUIS UNIVERSITY', 53.53, 5.353], ['Lauren Aguilar', 'MISSOURI BAPTIST', 55.394999999999996, 5.539499999999999], ['Adam Bass', 'BJC', 57.745, 5.7745], ['Rhonda Williams', 'BJC WEST COUNTY', 57.655, 5.7655], ['Melissa White', \"ST.LUKE'S\", 47.285000000000004, 4.7285], ['David Li', 'BJC', 44.93, 4.493], ['Emily Mcclure', \"ST.LUKE'S\", 53.455000000000005, 5.3455], ['Donald Rogers', \"ST.LUKE'S\", 52.35, 5.235], ['Shane Haley', 'SAINT LOUIS UNIVERSITY', 43.09, 4.309], ['John Perez', \"ST.LUKE'S\", 46.78, 4.678], ['Raymond Frye', \"ST.LUKE'S\", 50.425, 5.0424999999999995], ['Richard James', 'BJC', 54.45, 5.445], ['Gerald Walters', \"ST.LUKE'S\", 55.3, 5.529999999999999], ['Jesus Shepherd', \"ST.MARY'S\", 56.43, 5.643], ['Cindy Garrett', 'BJC', 52.555, 5.2555], ['Richard Johnston', \"ST.LUKE'S\", 56.85, 5.6850000000000005], ['Jennifer Reyes', 'MISSOURI BAPTIST', 47.195, 4.7195], ['Dawn Coleman', 'SAINT LOUIS UNIVERSITY', 58.6, 5.86], ['Amy Schmidt', 'MISSOURI BAPTIST', 59.095, 5.9094999999999995], ['Jonathan Mcdaniel', \"ST.MARY'S\", 50.455, 5.0455], ['Diane Howard', 'BJC', 49.345, 4.9345], ['Lisa Wilkerson', 'SAINT LOUIS UNIVERSITY', 40.165, 4.0165], ['Jason King', \"ST.MARY'S\", 53.165, 5.3165], ['Alyssa Mata', \"ST.LUKE'S\", 46.970000000000006, 4.697000000000001], ['Helen Silva', 'BJC', 48.785000000000004, 4.878500000000001], ['William Simon', 'BJC', 46.235, 4.6235], ['Melissa Campbell', 'BJC WEST COUNTY', 52.285, 5.2284999999999995], ['Kevin Burnett', \"ST.LUKE'S\", 56.395, 5.6395], ['Derek Mosley', \"ST.MARY'S\", 58.135, 5.8134999999999994], ['Mary Nicholson', 'MISSOURI BAPTIST', 50.875, 5.0875], ['Caitlyn Bennett', 'BJC', 53.74, 5.3740000000000006], ['Karen Byrd', 'MISSOURI BAPTIST', 49.545, 4.9545], ['Latasha Hawkins', 'MISSOURI BAPTIST', 46.96, 4.696], ['Melissa Rodriguez', 'BJC', 41.745, 4.1745], ['Brian Holt', 'SAINT LOUIS UNIVERSITY', 44.095, 4.4094999999999995], ['Ian Shaw', 'BJC', 44.955, 4.4955], ['Thomas Chavez', \"ST.LUKE'S\", 47.26, 4.726], ['Jon Mcintyre', 'SAINT LOUIS UNIVERSITY', 54.14, 5.414], ['Emily Haynes', 'BJC WEST COUNTY', 53.735, 5.3735], ['Hannah Mcknight', 'BJC', 59.605000000000004, 5.960500000000001], ['David Massey', 'SAINT LOUIS UNIVERSITY', 40.995, 4.0995], ['Jill Colon', 'MISSOURI BAPTIST', 54.61, 5.461], ['Sandra Wright', 'SAINT LOUIS UNIVERSITY', 53.005, 5.3005], ['Veronica Wagner', 'MISSOURI BAPTIST', 51.575, 5.157500000000001], ['Tonya Harris', 'MISSOURI BAPTIST', 56.345000000000006, 5.634500000000001], ['Walter Lewis', \"ST.MARY'S\", 50.615, 5.0615000000000006], ['Kari Park', 'BJC WEST COUNTY', 59.029999999999994, 5.903], ['Chad Pineda', \"ST.MARY'S\", 50.635000000000005, 5.0635], ['David Stone', 'BJC', 49.099999999999994, 4.909999999999999], ['Charles Choi', 'BJC WEST COUNTY', 51.709999999999994, 5.170999999999999], ['Randall Butler', 'BJC', 46.775000000000006, 4.6775], ['Douglas Turner', 'BJC WEST COUNTY', 45.265, 4.5265], ['Madison Mcneil', 'SAINT LOUIS UNIVERSITY', 56.49, 5.649], ['Chad Haney', 'SAINT LOUIS UNIVERSITY', 42.34, 4.234], ['Ricky Watson', \"ST.MARY'S\", 50.15, 5.015], ['Steven Long', 'BJC', 55.755, 5.5755], ['Jonathan Murray', 'MISSOURI BAPTIST', 45.195, 4.5195], ['Jerry Ramirez', \"ST.MARY'S\", 46.82, 4.682], ['Randy Wallace', 'BJC', 57.695, 5.7695], ['Nathan Gonzalez', 'SAINT LOUIS UNIVERSITY', 48.315, 4.8315], ['Daniel Weiss', 'BJC', 46.475, 4.6475], ['James Brewer', 'BJC WEST COUNTY', 52.545, 5.2545], ['Heather Morgan', \"ST.LUKE'S\", 45.685, 4.5685], ['Charles Edwards', 'SAINT LOUIS UNIVERSITY', 59.54, 5.954], ['Christina Lewis', \"ST.LUKE'S\", 59.315, 5.9315], ['Frank Riley', 'BJC WEST COUNTY', 39.96, 3.996], ['Rebecca Gomez', 'BJC', 58.315, 5.8315], ['Christopher Pruitt', 'MISSOURI BAPTIST', 45.16, 4.516], ['Dr. Steven Williams DVM', 'BJC', 40.205, 4.0205], ['Ryan Rush', 'SAINT LOUIS UNIVERSITY', 45.535, 4.5535], ['Rhonda Carr', 'BJC', 55.405, 5.5405], ['Miss Kimberly Rios MD', 'MISSOURI BAPTIST', 53.305, 5.3305], ['Ashley Barton', 'BJC WEST COUNTY', 41.095, 4.1095], ['Anna Grant', 'MISSOURI BAPTIST', 40.555, 4.0555], ['Amanda Johnson', 'MISSOURI BAPTIST', 53.35, 5.335], ['Emily Thomas', 'MISSOURI BAPTIST', 46.26, 4.6259999999999994], ['Christy Jones', 'BJC', 52.75, 5.275], ['Danny Foster', 'MISSOURI BAPTIST', 53.574999999999996, 5.3575], ['James Allen', \"ST.MARY'S\", 41.894999999999996, 4.1895], ['Tyrone Jimenez', 'SAINT LOUIS UNIVERSITY', 42.22, 4.2219999999999995], ['Cynthia Hopkins', 'BJC WEST COUNTY', 50.035, 5.0035], ['Devon Wilcox', \"ST.LUKE'S\", 43.795, 4.3795], ['John Farley', \"ST.MARY'S\", 56.485, 5.6485], ['Hector Arroyo', 'SAINT LOUIS UNIVERSITY', 43.64, 4.364], ['Brandon Thompson', \"ST.LUKE'S\", 53.660000000000004, 5.3660000000000005], ['Scott Patel', 'BJC', 40.589999999999996, 4.058999999999999], ['Karen Bishop', 'SAINT LOUIS UNIVERSITY', 59.015, 5.9015], ['Tony Wheeler', \"ST.LUKE'S\", 53.27, 5.327], ['Arthur Munoz', 'BJC', 57.27, 5.727], ['Edward Holloway', 'BJC WEST COUNTY', 41.175, 4.1175], ['Lisa Perry', 'BJC WEST COUNTY', 43.769999999999996, 4.377], ['Pamela Green', 'BJC', 50.145, 5.0145], ['Kimberly Macdonald', \"ST.LUKE'S\", 51.315, 5.1315], ['Thomas Colon', 'SAINT LOUIS UNIVERSITY', 48.395, 4.8395], ['Paul Davis', 'SAINT LOUIS UNIVERSITY', 45.86, 4.586], ['Ronnie Rush', 'SAINT LOUIS UNIVERSITY', 52.615, 5.2615], ['Erik Wilson', 'BJC WEST COUNTY', 43.175000000000004, 4.317500000000001], ['Crystal Clark', 'SAINT LOUIS UNIVERSITY', 59.675000000000004, 5.9675], ['Megan Smith', 'BJC WEST COUNTY', 47.824999999999996, 4.7825], ['Jonathan Durham', 'BJC WEST COUNTY', 46.315, 4.6315], ['Timothy Hawkins', 'MISSOURI BAPTIST', 41.305, 4.1305], ['Christopher Perry', \"ST.MARY'S\", 48.82, 4.882], ['Samuel Duke', 'MISSOURI BAPTIST', 54.01, 5.401], ['Kevin Mason', 'BJC WEST COUNTY', 57.205, 5.7204999999999995], ['Ian Clark', 'BJC', 59.59, 5.9590000000000005], ['Ryan Boyd', 'BJC WEST COUNTY', 48.25, 4.825], ['Valerie Calderon', \"ST.MARY'S\", 52.04, 5.204], ['Ryan Davis', \"ST.LUKE'S\", 56.6, 5.66], ['Sara Smith', 'BJC WEST COUNTY', 56.33, 5.633], ['Samuel Keith', 'BJC', 46.82, 4.682], ['Renee White', \"ST.MARY'S\", 44.565000000000005, 4.4565], ['Heidi Johnson', 'BJC WEST COUNTY', 51.754999999999995, 5.1754999999999995], ['Tara Walker', \"ST.MARY'S\", 46.615, 4.6615], ['Nathan Lee', \"ST.MARY'S\", 45.864999999999995, 4.586499999999999], ['Victor Reyes', \"ST.LUKE'S\", 50.095, 5.0095], ['Rebecca Jones', 'BJC WEST COUNTY', 48.269999999999996, 4.827], ['Susan Ryan', 'MISSOURI BAPTIST', 41.96, 4.196], ['Rachel Richmond', 'SAINT LOUIS UNIVERSITY', 51.504999999999995, 5.150499999999999], ['Leslie Smith', 'SAINT LOUIS UNIVERSITY', 47.59, 4.759], ['Jorge Williams', 'SAINT LOUIS UNIVERSITY', 44.275, 4.4275], ['Kelly Lewis', \"ST.MARY'S\", 47.7, 4.7700000000000005], ['Mathew Welch', \"ST.MARY'S\", 56.985, 5.6985], ['Lauren Burns', 'SAINT LOUIS UNIVERSITY', 48.95, 4.8950000000000005], ['Margaret Beasley', 'MISSOURI BAPTIST', 45.029999999999994, 4.502999999999999], ['Patricia Gordon', 'BJC WEST COUNTY', 41.709999999999994, 4.170999999999999], ['Martha Richardson', 'BJC WEST COUNTY', 45.38, 4.538], ['Heather Yates', 'BJC WEST COUNTY', 43.335, 4.3335], ['Mark Pearson', 'SAINT LOUIS UNIVERSITY', 40.27, 4.027], ['Melanie Rollins', 'MISSOURI BAPTIST', 53.14, 5.314], ['Darren Mosley', 'BJC WEST COUNTY', 41.26, 4.1259999999999994], ['Kelly Smith', 'SAINT LOUIS UNIVERSITY', 56.88, 5.688000000000001], ['Teresa Morton', \"ST.MARY'S\", 43.315, 4.3315], ['Eric Hess', 'SAINT LOUIS UNIVERSITY', 44.144999999999996, 4.414499999999999], ['Mary Ramirez', 'MISSOURI BAPTIST', 59.62, 5.962], ['Michael Gilbert', \"ST.MARY'S\", 42.605000000000004, 4.2605], ['Daniel Moody', 'MISSOURI BAPTIST', 50.660000000000004, 5.066000000000001], ['Pamela Moore', 'SAINT LOUIS UNIVERSITY', 43.395, 4.3395], ['John Spence', 'BJC WEST COUNTY', 53.62, 5.362], ['Sandra Hancock', 'MISSOURI BAPTIST', 47.29, 4.729], ['James Anderson', 'BJC', 51.955, 5.1955], ['Pamela Hamilton', 'BJC', 42.315, 4.2315], ['Brenda Johnson', 'MISSOURI BAPTIST', 47.125, 4.7125], ['Melissa Hernandez', 'SAINT LOUIS UNIVERSITY', 49.66, 4.965999999999999], ['Barry Fisher', \"ST.MARY'S\", 43.714999999999996, 4.371499999999999], ['Samuel Pruitt', 'BJC WEST COUNTY', 43.93, 4.393], ['Theresa Barnes', 'BJC WEST COUNTY', 45.77, 4.577], ['Chase Hamilton', 'BJC', 51.855, 5.185499999999999], ['Joshua Villa', 'BJC', 52.760000000000005, 5.276000000000001], ['Carol Ramirez', 'BJC WEST COUNTY', 54.015, 5.4015], ['Stacy Olsen', 'BJC', 45.905, 4.5905000000000005], ['Samantha Pena', 'BJC', 40.29, 4.029], ['Corey Cook', \"ST.MARY'S\", 50.03, 5.003], ['Mrs. Brittany Flynn', 'BJC', 43.29, 4.329], ['Allen Nicholson', \"ST.MARY'S\", 57.31, 5.731], ['Robert Snow', 'MISSOURI BAPTIST', 59.38, 5.938000000000001], ['James Wallace', \"ST.MARY'S\", 55.24, 5.524], ['Francisco Fernandez', \"ST.MARY'S\", 50.824999999999996, 5.0825], ['Wyatt Baird', 'BJC WEST COUNTY', 45.584999999999994, 4.5584999999999996], ['Randy Johnson', 'BJC WEST COUNTY', 59.225, 5.9225], ['Maria Paul', 'BJC WEST COUNTY', 48.565, 4.8565], ['Kent Carr', \"ST.MARY'S\", 42.57, 4.257], ['Mark Thomas', \"ST.MARY'S\", 44.61, 4.461], ['Danielle Peterson', \"ST.MARY'S\", 46.485, 4.6485], ['Jason Pratt', 'BJC WEST COUNTY', 49.96, 4.996], ['Melissa Mcclain', 'MISSOURI BAPTIST', 45.385, 4.5385], ['Jacqueline Blankenship', 'MISSOURI BAPTIST', 45.705, 4.5705], ['Michael Nicholson', \"ST.LUKE'S\", 46.95, 4.695], ['Kathryn Hill', \"ST.LUKE'S\", 44.535000000000004, 4.4535], ['Timothy Coleman', \"ST.LUKE'S\", 58.375, 5.8375], ['Troy Johnson', 'BJC', 49.294999999999995, 4.929499999999999], ['Joseph Mathis', 'MISSOURI BAPTIST', 59.135000000000005, 5.913500000000001], ['Jeffrey Lopez', 'BJC WEST COUNTY', 40.865, 4.0865], ['Kimberly Hill', \"ST.MARY'S\", 55.57, 5.557], ['Barbara Smith', 'BJC WEST COUNTY', 58.98, 5.898], ['Robert Quinn', 'BJC WEST COUNTY', 39.925, 3.9924999999999997], ['Jeremy Garrison', 'BJC WEST COUNTY', 54.66, 5.465999999999999], ['Michael Davis', 'SAINT LOUIS UNIVERSITY', 50.28, 5.0280000000000005], ['Natalie Richmond', 'MISSOURI BAPTIST', 57.589999999999996, 5.7589999999999995], ['Jamie Hughes', 'SAINT LOUIS UNIVERSITY', 40.285, 4.028499999999999], ['Jeffrey Jordan', 'MISSOURI BAPTIST', 40.01, 4.0009999999999994], ['Raven Sexton', 'BJC', 41.739999999999995, 4.1739999999999995], ['Tim Lynch', 'BJC', 51.99, 5.199], ['Joy Davis', \"ST.MARY'S\", 57.845, 5.7844999999999995], ['James Grimes', \"ST.LUKE'S\", 50.5, 5.05], ['Barry Williams', 'SAINT LOUIS UNIVERSITY', 53.754999999999995, 5.3755], ['Kathryn Nelson', 'MISSOURI BAPTIST', 41.855000000000004, 4.1855], ['David Ramirez', 'BJC WEST COUNTY', 40.55, 4.055], ['Linda Oconnor', 'BJC WEST COUNTY', 54.755, 5.4755], ['Christopher Huang', \"ST.MARY'S\", 48.15, 4.8149999999999995], ['Anthony Gray', 'SAINT LOUIS UNIVERSITY', 43.550000000000004, 4.355], ['Christopher Phillips', 'BJC WEST COUNTY', 42.41, 4.241], ['Victoria West', 'MISSOURI BAPTIST', 53.89, 5.389], ['Teresa Mendoza', 'SAINT LOUIS UNIVERSITY', 56.845, 5.6845], ['Jason Brown', 'BJC WEST COUNTY', 58.045, 5.8045], ['Heidi Campbell', 'MISSOURI BAPTIST', 49.53, 4.953], ['Samantha Salazar', \"ST.LUKE'S\", 40.43, 4.043], ['Melinda Hernandez', 'BJC', 43.36, 4.336], ['Rebecca Washington', 'BJC', 49.325, 4.9325], ['Joshua Skinner', \"ST.LUKE'S\", 46.635, 4.6635], ['Sean Robertson', 'BJC WEST COUNTY', 48.86000000000001, 4.886000000000001], ['Justin Jones', 'BJC WEST COUNTY', 43.375, 4.3375], ['Brandon Casey', 'MISSOURI BAPTIST', 53.945, 5.3945], ['Jill Hancock', 'MISSOURI BAPTIST', 54.184999999999995, 5.4185], ['Nicole Hart', \"ST.LUKE'S\", 50.44, 5.044], ['Todd Rogers', 'SAINT LOUIS UNIVERSITY', 49.165, 4.9165], ['Raymond Harding', 'BJC', 45.04, 4.504], ['Steven House', \"ST.MARY'S\", 45.635000000000005, 4.5635], ['Danielle Holmes', 'MISSOURI BAPTIST', 40.03, 4.003], ['Tina Wilson', \"ST.LUKE'S\", 41.98, 4.1979999999999995], ['Lindsey Jones', 'BJC', 53.07, 5.307], ['Samantha Martinez', 'BJC', 51.865, 5.1865000000000006], ['Gregory Mejia', 'BJC', 55.505, 5.5505], ['Tonya Craig', \"ST.LUKE'S\", 51.085, 5.1085], ['Jacqueline Guzman', \"ST.MARY'S\", 58.885, 5.8885], ['Thomas Santiago', 'BJC WEST COUNTY', 56.425, 5.6425], ['Dawn Wright', 'SAINT LOUIS UNIVERSITY', 53.964999999999996, 5.3965], ['Eric Walters', \"ST.LUKE'S\", 53.175, 5.3175], ['Matthew Brown', \"ST.LUKE'S\", 47.745000000000005, 4.774500000000001], ['Derek Travis', \"ST.MARY'S\", 41.93, 4.193], ['Jessica Jackson', 'SAINT LOUIS UNIVERSITY', 48.61, 4.861], ['Laura Robertson', 'BJC WEST COUNTY', 48.315, 4.8315], ['Briana Cooper', \"ST.LUKE'S\", 49.010000000000005, 4.901000000000001], ['Debra Bennett', 'BJC WEST COUNTY', 50.835, 5.0835], ['Marissa Webb', 'SAINT LOUIS UNIVERSITY', 59.684999999999995, 5.9685], ['Patricia Maldonado', 'MISSOURI BAPTIST', 58.800000000000004, 5.880000000000001], ['Misty Roth DDS', \"ST.LUKE'S\", 59.040000000000006, 5.904000000000001], ['Dawn Johnson', 'SAINT LOUIS UNIVERSITY', 50.71, 5.071], ['Jacob Haley', 'MISSOURI BAPTIST', 52.815, 5.281499999999999], ['Olivia Williams', 'BJC WEST COUNTY', 55.07, 5.507], ['Clifford Peterson', 'BJC', 51.385, 5.1385], ['Natalie Morales', \"ST.MARY'S\", 54.385, 5.4384999999999994], ['Robert Hicks', 'BJC WEST COUNTY', 57.64, 5.764], ['Adrienne Hutchinson', 'SAINT LOUIS UNIVERSITY', 39.875, 3.9875], ['Perry Rice', 'SAINT LOUIS UNIVERSITY', 41.095, 4.1095], ['Zachary Tyler', \"ST.MARY'S\", 54.855000000000004, 5.4855], ['Brittany Roberts', 'BJC', 52.620000000000005, 5.2620000000000005], ['Victoria Phelps', \"ST.MARY'S\", 49.375, 4.9375], ['Tiffany Aguilar', 'BJC WEST COUNTY', 54.51, 5.451], ['Brent Kennedy', \"ST.MARY'S\", 47.865, 4.7865], ['Erica Johnson', 'SAINT LOUIS UNIVERSITY', 49.0, 4.9], ['Jamie Powell', \"ST.MARY'S\", 52.760000000000005, 5.276000000000001], ['Linda Anderson', \"ST.MARY'S\", 49.255, 4.9255], ['Emily Daniel', 'BJC WEST COUNTY', 43.075, 4.3075], ['Eric Vasquez', \"ST.MARY'S\", 51.199999999999996, 5.119999999999999], ['Crystal Kim', 'SAINT LOUIS UNIVERSITY', 47.685, 4.7685], ['Kristen Olson', 'BJC', 47.709999999999994, 4.770999999999999], ['Mark Dawson', 'BJC WEST COUNTY', 51.160000000000004, 5.1160000000000005], ['Darren Velez', \"ST.LUKE'S\", 57.52, 5.752000000000001], ['Jacob Williams', 'SAINT LOUIS UNIVERSITY', 45.46, 4.546], ['Jennifer Blair', \"ST.MARY'S\", 58.015, 5.8015], ['Neil Thompson', 'BJC', 44.87, 4.487], ['Victoria Humphrey', 'SAINT LOUIS UNIVERSITY', 59.26, 5.926], ['Justin Rubio', \"ST.LUKE'S\", 59.39, 5.939], ['Frank Robertson', 'BJC', 54.955, 5.4955], ['James Ford', \"ST.MARY'S\", 42.605, 4.2604999999999995], ['Leah Reeves', 'BJC', 55.839999999999996, 5.584], ['Dawn Nichols', 'BJC', 51.615, 5.1615], ['Amanda Nelson', \"ST.LUKE'S\", 50.535000000000004, 5.0535000000000005], ['Ebony Chandler MD', \"ST.MARY'S\", 48.125, 4.8125], ['Anthony Lopez', 'BJC', 50.29, 5.029], ['Daniel Jefferson', 'BJC', 43.545, 4.3545], ['Ryan Miller', \"ST.LUKE'S\", 57.959999999999994, 5.795999999999999], ['Jessica Munoz', \"ST.MARY'S\", 55.68, 5.568], ['Stacey White', 'BJC', 40.885000000000005, 4.088500000000001], ['Daniel Allen', 'SAINT LOUIS UNIVERSITY', 43.72, 4.372], ['Robert Barnes', \"ST.LUKE'S\", 54.295, 5.4295], ['Thomas Bender', 'SAINT LOUIS UNIVERSITY', 46.22, 4.622], ['Ian Fletcher', 'MISSOURI BAPTIST', 50.12, 5.012], ['Terri Lynch', \"ST.LUKE'S\", 55.27, 5.527], ['Kimberly Acosta', \"ST.MARY'S\", 45.29, 4.529], ['Dawn Hughes', \"ST.LUKE'S\", 42.38, 4.238], ['Ryan Mcdaniel', \"ST.MARY'S\", 39.99, 3.999], ['Ebony Flores', \"ST.MARY'S\", 53.67, 5.367], ['Julia Simpson', \"ST.MARY'S\", 59.375, 5.9375], ['Joshua Garcia', 'SAINT LOUIS UNIVERSITY', 56.8, 5.68], ['Stephanie Walker', \"ST.LUKE'S\", 42.0, 4.2], ['Adrian Rose', 'BJC', 49.965, 4.9965], ['Evan Jones', \"ST.MARY'S\", 55.505, 5.5505], ['Andrew Benton', 'BJC WEST COUNTY', 52.525000000000006, 5.2525], ['Shawn White', \"ST.LUKE'S\", 45.84, 4.5840000000000005], ['Kevin Hill', 'BJC WEST COUNTY', 50.985, 5.0985], ['Kimberly Osborn', \"ST.MARY'S\", 51.54, 5.154], ['Laura Scott', \"ST.LUKE'S\", 52.105000000000004, 5.210500000000001], ['Patricia Murphy', 'BJC', 44.29, 4.429], ['Christopher Brown', 'SAINT LOUIS UNIVERSITY', 57.105, 5.7105], ['Willie Hernandez', 'BJC', 40.94, 4.093999999999999], ['William May', 'BJC', 44.8, 4.4799999999999995], ['Jesus Stewart', 'MISSOURI BAPTIST', 56.285, 5.6285], ['Wendy Cox', 'BJC WEST COUNTY', 50.015, 5.0015], ['Ethan Ortiz', \"ST.LUKE'S\", 55.86, 5.586], ['Crystal Wilson', 'MISSOURI BAPTIST', 50.25, 5.025], ['Kenneth Clark', 'BJC WEST COUNTY', 45.089999999999996, 4.5089999999999995], ['Melissa Johnson', \"ST.LUKE'S\", 45.050000000000004, 4.505000000000001], ['Dr. Lauren Cunningham', 'MISSOURI BAPTIST', 56.79, 5.679], ['Gabriel Fowler', 'MISSOURI BAPTIST', 46.739999999999995, 4.6739999999999995], ['Michael Carson', 'SAINT LOUIS UNIVERSITY', 44.559999999999995, 4.4559999999999995], ['Michael Baker', 'SAINT LOUIS UNIVERSITY', 57.225, 5.7225], ['Michelle Velez', 'BJC', 49.75, 4.975], ['Michael Bennett', 'SAINT LOUIS UNIVERSITY', 51.74, 5.174], ['Rebecca Dickerson', \"ST.MARY'S\", 47.595000000000006, 4.759500000000001], ['Carla Mills', 'MISSOURI BAPTIST', 40.32, 4.032], ['Catherine Lynch', 'SAINT LOUIS UNIVERSITY', 50.845, 5.0845], ['Erin Parrish', 'BJC', 50.255, 5.0255], ['Sheila Bell', \"ST.LUKE'S\", 40.739999999999995, 4.074], ['Scott Bartlett', 'BJC', 49.935, 4.9935], ['Jason Stewart II', 'SAINT LOUIS UNIVERSITY', 46.285, 4.6285], ['Zachary Durham', 'SAINT LOUIS UNIVERSITY', 55.195, 5.5195], ['Jonathan Bell', 'BJC', 57.545, 5.7545], ['Paul Welch', 'SAINT LOUIS UNIVERSITY', 49.345, 4.9345], ['John Williams', 'SAINT LOUIS UNIVERSITY', 47.16, 4.715999999999999], ['Stephanie Brown', \"ST.LUKE'S\", 48.645, 4.8645000000000005], ['Laura Davis', \"ST.MARY'S\", 45.71, 4.571], ['Karla Irwin', 'BJC', 44.074999999999996, 4.4075], ['Reginald Hall', 'BJC WEST COUNTY', 54.365, 5.4365000000000006], ['Gary Johnson', 'MISSOURI BAPTIST', 48.355000000000004, 4.835500000000001], ['Roy Miller', \"ST.LUKE'S\", 56.754999999999995, 5.6754999999999995], ['Ronald Buck', 'SAINT LOUIS UNIVERSITY', 41.12, 4.112], ['Paul Davis', \"ST.LUKE'S\", 42.775000000000006, 4.277500000000001], ['Ricky Suarez', 'SAINT LOUIS UNIVERSITY', 48.085, 4.8085], ['Jennifer Ferguson', 'BJC WEST COUNTY', 54.515, 5.4515], ['Melissa Lucas', \"ST.LUKE'S\", 55.305, 5.5305], ['Jonathan Davis', \"ST.MARY'S\", 55.655, 5.5655], ['Dawn Bell', 'BJC', 47.07, 4.707], ['Michael Martin', 'BJC WEST COUNTY', 45.14, 4.514], ['Ashley Nixon', 'SAINT LOUIS UNIVERSITY', 47.019999999999996, 4.702], ['Joseph Taylor', 'SAINT LOUIS UNIVERSITY', 50.33, 5.0329999999999995], ['Pedro West', 'BJC', 48.035, 4.8035], ['Jennifer Moreno', \"ST.MARY'S\", 47.114999999999995, 4.711499999999999], ['Alexandra Greene', \"ST.LUKE'S\", 55.605, 5.560499999999999], ['Vanessa Luna', \"ST.MARY'S\", 43.555, 4.3555], ['William Hall', 'BJC', 56.86, 5.686], ['Lisa Warren', 'MISSOURI BAPTIST', 47.16, 4.715999999999999], ['Jason Anderson', 'SAINT LOUIS UNIVERSITY', 46.97, 4.697], ['Arthur Callahan', 'BJC', 41.730000000000004, 4.173], ['Kenneth Thomas', 'MISSOURI BAPTIST', 51.995, 5.1995], ['Matthew Peterson', \"ST.MARY'S\", 40.33, 4.0329999999999995], ['Monica Brennan', 'BJC', 54.98, 5.497999999999999], ['Caitlin Dean', \"ST.LUKE'S\", 40.845, 4.0845], ['Craig Wells', 'MISSOURI BAPTIST', 52.725, 5.2725], ['Gary Richard', 'BJC', 53.41, 5.340999999999999], ['Melissa Smith', 'MISSOURI BAPTIST', 40.074999999999996, 4.007499999999999], ['William Green', 'SAINT LOUIS UNIVERSITY', 41.435, 4.1435], ['Jacob Blackwell', 'MISSOURI BAPTIST', 49.255, 4.9255], ['Hector Lee', \"ST.MARY'S\", 48.43, 4.843], ['Natasha Adkins', 'SAINT LOUIS UNIVERSITY', 40.025, 4.0024999999999995], ['James Dixon', 'SAINT LOUIS UNIVERSITY', 47.38, 4.738], ['Collin Garcia', 'BJC WEST COUNTY', 47.83, 4.7829999999999995], ['Christopher Chavez', 'BJC', 59.3, 5.93], ['Kara Walker', 'BJC', 55.62, 5.561999999999999], ['Jessica Hernandez', 'SAINT LOUIS UNIVERSITY', 50.85, 5.085], ['Kathy Parks', 'SAINT LOUIS UNIVERSITY', 49.9, 4.99], ['Sarah Ingram', 'BJC', 58.459999999999994, 5.845999999999999], ['Kevin Clark', 'BJC', 44.135000000000005, 4.413500000000001], ['Jill Arias', 'BJC', 47.09, 4.7090000000000005], ['Christine Bowen', 'SAINT LOUIS UNIVERSITY', 48.625, 4.8625], ['Mark Tate', 'MISSOURI BAPTIST', 50.625, 5.0625], ['Megan Palmer', 'SAINT LOUIS UNIVERSITY', 56.515, 5.6515], ['Laura Miller', 'MISSOURI BAPTIST', 44.769999999999996, 4.476999999999999], ['Jamie Pennington', 'BJC WEST COUNTY', 44.885, 4.4885], ['Natalie Herrera', 'BJC WEST COUNTY', 53.94, 5.394], ['Nicole Anderson', 'BJC', 48.68, 4.868], ['Sarah Brown', 'MISSOURI BAPTIST', 46.24, 4.6240000000000006], ['John Walter', 'BJC WEST COUNTY', 40.195, 4.0195], ['Mario Padilla', 'MISSOURI BAPTIST', 41.22, 4.122], ['Brent Bates', 'BJC WEST COUNTY', 40.565000000000005, 4.056500000000001], ['John Lewis', 'SAINT LOUIS UNIVERSITY', 57.85, 5.785], ['Christopher Mendoza', 'MISSOURI BAPTIST', 48.18, 4.818], ['Christopher Henson', 'BJC WEST COUNTY', 52.045, 5.2045], ['Luis Harris', 'BJC', 46.285000000000004, 4.628500000000001], ['Jerry Patterson', 'MISSOURI BAPTIST', 55.34, 5.534000000000001], ['Danielle Walker', \"ST.LUKE'S\", 47.595000000000006, 4.759500000000001], ['Jesse Harris', 'BJC', 55.62, 5.561999999999999], ['Lisa Rogers', 'SAINT LOUIS UNIVERSITY', 47.824999999999996, 4.7825], ['Carly Williams', \"ST.MARY'S\", 40.845, 4.0845], ['Danielle Stewart', 'SAINT LOUIS UNIVERSITY', 52.925000000000004, 5.2925], ['Janet Henderson', 'MISSOURI BAPTIST', 41.51, 4.151], ['Jennifer Castillo', 'MISSOURI BAPTIST', 48.415, 4.8415], ['Nicholas Hatfield', 'SAINT LOUIS UNIVERSITY', 42.91, 4.2909999999999995], ['Mr. Scott Anderson', 'BJC WEST COUNTY', 57.8, 5.779999999999999], ['Lisa Reynolds', 'BJC WEST COUNTY', 59.705, 5.9704999999999995], ['Francisco Acosta', 'SAINT LOUIS UNIVERSITY', 49.970000000000006, 4.997000000000001], ['Jennifer Robinson', \"ST.LUKE'S\", 57.9, 5.79], ['Jeffery Le', 'SAINT LOUIS UNIVERSITY', 57.55, 5.755], ['Christina Watson', 'SAINT LOUIS UNIVERSITY', 44.905, 4.4905], ['Shawn Mcdowell', 'BJC WEST COUNTY', 49.925, 4.9925], ['Maria Garcia', 'SAINT LOUIS UNIVERSITY', 45.705, 4.5705], ['Michael Santiago', 'BJC', 53.725, 5.3725000000000005], ['Eric Solis', \"ST.LUKE'S\", 45.365, 4.5365], ['John Harper', 'MISSOURI BAPTIST', 54.835, 5.4835], ['Paula Pollard', 'SAINT LOUIS UNIVERSITY', 54.865, 5.4865], ['Calvin Newton', 'MISSOURI BAPTIST', 59.725, 5.9725], ['Michelle Simpson', \"ST.MARY'S\", 39.894999999999996, 3.9894999999999996], ['Chad Duffy', 'MISSOURI BAPTIST', 42.125, 4.2125], ['Tamara Lozano', 'MISSOURI BAPTIST', 51.385000000000005, 5.1385000000000005], ['Robert Alvarado', 'BJC WEST COUNTY', 52.985, 5.2985], ['Brandon Mills', 'MISSOURI BAPTIST', 54.155, 5.4155], ['Elizabeth Thomas', 'BJC', 49.220000000000006, 4.922000000000001], ['Pamela Mendez', 'BJC', 47.425000000000004, 4.742500000000001], ['Casey Miller', 'BJC WEST COUNTY', 53.82, 5.382], ['Ashley Hood', 'MISSOURI BAPTIST', 49.715, 4.971500000000001], ['Kathy Reid', \"ST.LUKE'S\", 39.97, 3.997], ['Angela Parks', 'BJC', 53.815, 5.3815], ['Carrie Black', 'MISSOURI BAPTIST', 52.86, 5.286], ['Lori Valenzuela', 'BJC', 55.39, 5.539], ['Melanie Hernandez', 'MISSOURI BAPTIST', 49.29, 4.929], ['Sean French', 'BJC', 51.485, 5.1485], ['David Lewis', \"ST.LUKE'S\", 52.660000000000004, 5.266], ['John Williams', 'BJC WEST COUNTY', 54.75, 5.475], ['Sean Hall', 'MISSOURI BAPTIST', 40.015, 4.0015], ['Zachary Fernandez', \"ST.LUKE'S\", 41.154999999999994, 4.115499999999999], ['Cesar Olson', 'BJC WEST COUNTY', 41.599999999999994, 4.159999999999999], ['Teresa Peterson', 'BJC WEST COUNTY', 43.975, 4.3975], ['Samuel Ramirez', \"ST.LUKE'S\", 48.305, 4.8305], ['Alyssa Park', \"ST.LUKE'S\", 43.915, 4.3915], ['Daniel Golden', 'BJC WEST COUNTY', 46.275000000000006, 4.6275], ['Ruth Hayes', 'BJC WEST COUNTY', 44.275, 4.4275], ['Tonya Freeman', \"ST.LUKE'S\", 44.415, 4.4415], ['Brittany Chavez', \"ST.MARY'S\", 51.125, 5.1125], ['Kelsey Roth', 'SAINT LOUIS UNIVERSITY', 43.23, 4.3229999999999995], ['David James', 'MISSOURI BAPTIST', 52.6, 5.26], ['Michael Wallace', 'MISSOURI BAPTIST', 53.5, 5.35], ['Stephanie Sexton', \"ST.LUKE'S\", 41.95, 4.195], ['Hunter Cook', 'MISSOURI BAPTIST', 50.779999999999994, 5.077999999999999], ['Stacy Pearson', 'SAINT LOUIS UNIVERSITY', 44.44, 4.444], ['Danielle Murray', 'BJC', 50.144999999999996, 5.0145], ['Alan Ali', 'MISSOURI BAPTIST', 43.25, 4.325], ['Theodore Davis', \"ST.MARY'S\", 51.760000000000005, 5.176], ['Nathan Johnson', 'SAINT LOUIS UNIVERSITY', 55.82, 5.582], ['Heather Parrish', 'SAINT LOUIS UNIVERSITY', 51.58, 5.1579999999999995], ['Robert Edwards', \"ST.MARY'S\", 42.545, 4.2545], ['Steve Howard', \"ST.MARY'S\", 43.355, 4.3355], ['Todd Clark', 'SAINT LOUIS UNIVERSITY', 58.26, 5.826], ['Justin Douglas', 'BJC WEST COUNTY', 40.260000000000005, 4.026000000000001], ['Caroline Sawyer', 'SAINT LOUIS UNIVERSITY', 46.765, 4.6765], ['David Taylor', 'BJC', 54.295, 5.4295], ['Sarah Kelly', 'BJC WEST COUNTY', 42.86, 4.286], ['Thomas Torres', 'MISSOURI BAPTIST', 57.705, 5.7705], ['Patricia Keller', 'BJC', 42.145, 4.2145], ['Erica Brown', 'BJC', 52.294999999999995, 5.2295], ['Katherine Bailey', 'MISSOURI BAPTIST', 44.44, 4.444], ['Jorge Thomas', 'MISSOURI BAPTIST', 55.665, 5.5665], ['Ashley Walker', \"ST.MARY'S\", 46.045, 4.6045], ['Donna Lester', 'BJC WEST COUNTY', 50.275000000000006, 5.027500000000001], ['Robert Li', 'BJC WEST COUNTY', 56.59, 5.659000000000001], ['Alan Cunningham', 'MISSOURI BAPTIST', 49.364999999999995, 4.9365], ['Peter Blair', \"ST.LUKE'S\", 45.385, 4.5385], ['Willie Kirk', \"ST.LUKE'S\", 47.155, 4.7155000000000005], ['Michelle Barber', \"ST.LUKE'S\", 40.84, 4.0840000000000005], ['Gabriel Andersen', \"ST.LUKE'S\", 51.835, 5.1835], ['Leah Rich', \"ST.LUKE'S\", 42.91, 4.2909999999999995], ['Dr. Kimberly Booth DVM', 'BJC WEST COUNTY', 58.875, 5.8875], ['Jeremy May', 'BJC', 41.97, 4.197], ['Elizabeth Ellis', 'MISSOURI BAPTIST', 48.654999999999994, 4.865499999999999], ['Michael Harris', 'BJC WEST COUNTY', 42.135000000000005, 4.213500000000001], ['David Olsen', 'BJC WEST COUNTY', 40.25, 4.025], ['Matthew Morgan', 'BJC', 40.665, 4.0665], ['Shelly Lynch', 'BJC WEST COUNTY', 51.765, 5.1765], ['Denise Frazier', \"ST.LUKE'S\", 58.015, 5.8015], ['Michael Nelson', 'BJC WEST COUNTY', 52.419999999999995, 5.241999999999999], ['Jerome Newman', 'SAINT LOUIS UNIVERSITY', 56.92, 5.692], ['Carolyn Martinez', \"ST.LUKE'S\", 45.9, 4.59], ['Megan Miller', \"ST.MARY'S\", 53.37, 5.337], ['Mr. James Smith', \"ST.MARY'S\", 46.385, 4.6385], ['Kenneth Booth', 'BJC WEST COUNTY', 55.8, 5.58], ['Jennifer Welch', \"ST.MARY'S\", 50.49, 5.049], ['Zachary Smith', 'SAINT LOUIS UNIVERSITY', 46.695, 4.6695], ['Molly Bentley', \"ST.LUKE'S\", 57.145, 5.7145], ['Cory Davidson', 'MISSOURI BAPTIST', 41.955, 4.1955], ['Judith Santana', 'BJC', 46.14, 4.614], ['Corey Gutierrez', 'BJC WEST COUNTY', 40.155, 4.0155], ['Ryan Hall', \"ST.LUKE'S\", 43.245, 4.3245], ['Amanda Cooley', 'SAINT LOUIS UNIVERSITY', 56.004999999999995, 5.600499999999999], ['Courtney George', 'MISSOURI BAPTIST', 56.995, 5.6995], ['Judy Owens', \"ST.MARY'S\", 54.01, 5.401], ['Erin Day', \"ST.LUKE'S\", 53.7, 5.37], ['Brett Clark', 'BJC WEST COUNTY', 46.65, 4.665], ['Hannah Fisher', 'BJC', 51.644999999999996, 5.164499999999999], ['Ms. Shirley Stewart DDS', 'SAINT LOUIS UNIVERSITY', 57.035, 5.7035], ['Grace Chambers', 'BJC WEST COUNTY', 45.325, 4.532500000000001], ['Hannah Garcia', \"ST.MARY'S\", 57.675, 5.7675], ['Roger Ramirez', 'BJC', 48.465, 4.846500000000001], ['Sandra Frazier', \"ST.LUKE'S\", 43.7, 4.37], ['Monique Schmidt', 'BJC', 46.47, 4.647], ['Frank Whitaker', \"ST.LUKE'S\", 43.945, 4.3945], ['Kyle Castillo', 'BJC WEST COUNTY', 40.73, 4.0729999999999995], ['Kristi Joseph', \"ST.LUKE'S\", 53.43, 5.343], ['Jerry Shepard', \"ST.MARY'S\", 40.965, 4.096500000000001], ['Brittany Garcia', 'BJC', 41.220000000000006, 4.122000000000001], ['Jacob Gomez', \"ST.MARY'S\", 55.685, 5.5685], ['Elizabeth Brown', \"ST.MARY'S\", 57.644999999999996, 5.7645], ['Kristina Montgomery', \"ST.LUKE'S\", 42.72, 4.272], ['George Nelson', 'BJC WEST COUNTY', 51.33, 5.133], ['Kristen Cabrera', \"ST.MARY'S\", 56.335, 5.6335], ['Kyle Wright', \"ST.MARY'S\", 57.625, 5.7625], ['Daniel Mcbride', 'SAINT LOUIS UNIVERSITY', 44.980000000000004, 4.498], ['Jesse Ortiz', \"ST.MARY'S\", 58.800000000000004, 5.880000000000001], ['Brandon Phillips', 'BJC', 58.32, 5.832], ['Timothy Rivera', \"ST.LUKE'S\", 44.964999999999996, 4.496499999999999], ['Wanda Davis', 'SAINT LOUIS UNIVERSITY', 44.550000000000004, 4.455], ['Alyssa Rodriguez', 'BJC WEST COUNTY', 50.0, 5.0], ['Curtis Smith', 'MISSOURI BAPTIST', 42.365, 4.2365], ['Laurie Smith', 'SAINT LOUIS UNIVERSITY', 57.69, 5.769], ['Brittany Collier', 'SAINT LOUIS UNIVERSITY', 56.06, 5.606], ['Wendy Wright', 'SAINT LOUIS UNIVERSITY', 41.98, 4.1979999999999995], ['Michelle Carpenter', \"ST.MARY'S\", 51.29, 5.129], ['Ryan Yates', 'SAINT LOUIS UNIVERSITY', 54.480000000000004, 5.448], ['Dr. Vincent Turner', 'SAINT LOUIS UNIVERSITY', 49.025, 4.9025], ['Michael Davis', 'BJC WEST COUNTY', 50.885, 5.0885], ['Mr. Tyler Hendrix', \"ST.MARY'S\", 52.775, 5.2775], ['Regina Clark', \"ST.MARY'S\", 52.22, 5.2219999999999995], ['Brandon Kelley', \"ST.MARY'S\", 44.4, 4.4399999999999995], ['Lori Moses', 'SAINT LOUIS UNIVERSITY', 46.029999999999994, 4.603], ['Derek Caldwell', 'BJC', 43.39, 4.339], ['Cory Pollard', 'BJC', 53.055, 5.3055], ['Lisa Bauer', 'BJC', 52.71, 5.271], ['Amy Nash', 'BJC WEST COUNTY', 44.415, 4.4415], ['Billy Watkins', \"ST.LUKE'S\", 48.5, 4.85], ['Andrew Flores', \"ST.LUKE'S\", 52.510000000000005, 5.251], ['Collin Clark', \"ST.MARY'S\", 57.379999999999995, 5.7379999999999995], ['Lynn Carr', \"ST.MARY'S\", 44.185, 4.4185], ['Michael Barnes', 'BJC WEST COUNTY', 49.425, 4.9425], ['Karen Maynard', 'BJC', 52.105, 5.2105], ['Katrina Brown', 'BJC WEST COUNTY', 57.03, 5.703], ['Tiffany Ruiz', \"ST.LUKE'S\", 53.905, 5.3905], ['Sarah Henderson', \"ST.MARY'S\", 55.695, 5.5695], ['Tracy Strong', 'MISSOURI BAPTIST', 44.644999999999996, 4.464499999999999], ['Melissa Chavez', \"ST.LUKE'S\", 44.455, 4.4455], ['Vanessa Rose', 'BJC', 41.97, 4.197], ['Susan Williams', \"ST.MARY'S\", 40.735, 4.0735], ['Nicole Morse', \"ST.MARY'S\", 40.175, 4.0175], ['Kristina Moran', 'BJC', 44.709999999999994, 4.470999999999999], ['Michelle Fisher', 'SAINT LOUIS UNIVERSITY', 55.095, 5.5095], ['Noah Wilson', \"ST.LUKE'S\", 58.775000000000006, 5.8775], ['Keith Morton', 'BJC', 58.305, 5.8305], ['Darren Calhoun', \"ST.LUKE'S\", 46.365, 4.6365], ['Elizabeth Nunez', \"ST.MARY'S\", 57.650000000000006, 5.765000000000001], ['Patrick Matthews', 'MISSOURI BAPTIST', 59.07, 5.907], ['Shannon Coleman', \"ST.MARY'S\", 43.78, 4.378], ['Elizabeth Graham', \"ST.MARY'S\", 40.205, 4.0205], ['Mary Harmon', \"ST.MARY'S\", 41.64, 4.164], ['Scott Morgan', 'BJC', 49.32, 4.932], ['Kendra Potter', 'BJC', 52.155, 5.2155000000000005], ['Jennifer Bishop', 'BJC', 50.07, 5.007], ['Wendy Brooks', 'MISSOURI BAPTIST', 54.745, 5.4745], ['Peter Henderson', \"ST.MARY'S\", 54.2, 5.42], ['Danielle Vaughan', \"ST.LUKE'S\", 54.835, 5.4835], ['Paul Phillips', \"ST.LUKE'S\", 44.485, 4.4485], ['Jessica Ramirez', 'BJC', 59.045, 5.9045000000000005], ['Colleen Robinson', 'SAINT LOUIS UNIVERSITY', 57.87, 5.787], ['Amy Sanchez', \"ST.MARY'S\", 56.09, 5.609], ['Andrew Wilson', 'MISSOURI BAPTIST', 41.605000000000004, 4.160500000000001], ['Matthew Collins', \"ST.LUKE'S\", 57.285000000000004, 5.7285], ['Jill Lewis', 'BJC WEST COUNTY', 44.745000000000005, 4.474500000000001], ['Kristen Hall', \"ST.MARY'S\", 54.120000000000005, 5.412000000000001], ['Jordan Rivera', 'BJC WEST COUNTY', 53.49, 5.349], ['Jonathon Anderson', 'SAINT LOUIS UNIVERSITY', 49.955000000000005, 4.995500000000001], ['Julia Curtis', 'SAINT LOUIS UNIVERSITY', 51.225, 5.1225000000000005], ['David Jones', 'BJC', 49.14, 4.914], ['Christopher Bennett', \"ST.LUKE'S\", 39.875, 3.9875], ['Anthony Wright', 'SAINT LOUIS UNIVERSITY', 40.23500000000001, 4.0235], ['Christopher Paul', \"ST.MARY'S\", 58.25, 5.825], ['Justin Davidson', 'BJC WEST COUNTY', 50.195, 5.0195], ['Dr. Heather Martin', 'BJC', 43.61, 4.361], ['Kristopher Baker', \"ST.MARY'S\", 48.05, 4.805], ['Katie Johnson', 'SAINT LOUIS UNIVERSITY', 51.660000000000004, 5.166], ['Christian Bowen', 'BJC WEST COUNTY', 51.44, 5.144], ['Melissa Carter', 'BJC', 57.985, 5.7985], ['Shannon Walker', \"ST.LUKE'S\", 57.125, 5.7125], ['Amanda Singh', 'BJC', 46.92, 4.692], ['Michael Sanders', \"ST.MARY'S\", 49.879999999999995, 4.9879999999999995], ['Ryan Morris', 'BJC WEST COUNTY', 56.77, 5.6770000000000005], ['Michael Sanchez', 'BJC', 54.675, 5.467499999999999], ['Erin Stevens', \"ST.MARY'S\", 43.74, 4.3740000000000006], ['Kyle Pierce', 'BJC WEST COUNTY', 49.635, 4.9635], ['Christy Collins', \"ST.MARY'S\", 50.69, 5.069], ['Jessica Doyle', 'BJC', 55.23, 5.523], ['Jessica Johnson', \"ST.MARY'S\", 51.29, 5.129], ['Cheryl Matthews', 'MISSOURI BAPTIST', 45.795, 4.5795], ['Molly Chen', 'BJC WEST COUNTY', 53.5, 5.35], ['Kyle Price', \"ST.LUKE'S\", 59.25, 5.925], ['Christopher Stevens', \"ST.LUKE'S\", 48.07, 4.807], ['Traci Love', \"ST.MARY'S\", 41.12, 4.112], ['Heidi Haynes', 'SAINT LOUIS UNIVERSITY', 43.54, 4.354], ['Sean Parker', 'BJC', 40.254999999999995, 4.025499999999999], ['Timothy Smith', 'MISSOURI BAPTIST', 46.675, 4.6674999999999995], ['Austin Boone', 'BJC', 49.99, 4.9990000000000006], ['Todd Walls', 'BJC', 45.99, 4.599], ['Richard Davis', 'BJC WEST COUNTY', 51.135, 5.1135], ['Erin Turner', 'SAINT LOUIS UNIVERSITY', 45.59, 4.559], ['Matthew Riley', \"ST.LUKE'S\", 46.83, 4.683], ['Mark Cardenas', \"ST.MARY'S\", 52.105, 5.2105], ['Tiffany Mcdonald', 'BJC WEST COUNTY', 42.675000000000004, 4.2675], ['Mrs. Stephanie Hebert PhD', 'BJC WEST COUNTY', 58.865, 5.8865], ['Amy Hernandez', 'SAINT LOUIS UNIVERSITY', 54.68, 5.468], ['Bethany Molina', 'BJC', 41.035, 4.1034999999999995], ['Connor Patterson', 'MISSOURI BAPTIST', 43.949999999999996, 4.395], ['James Brown', \"ST.MARY'S\", 40.625, 4.0625], ['Alexander Cunningham', 'BJC', 50.125, 5.0125], ['Kathleen Fernandez', 'MISSOURI BAPTIST', 53.455, 5.3454999999999995], ['Joe Arnold', 'BJC', 40.52, 4.0520000000000005], ['Michael Thomas', 'MISSOURI BAPTIST', 58.49, 5.849], ['Catherine Hampton', 'MISSOURI BAPTIST', 49.075, 4.907500000000001], ['Stephen Palmer', \"ST.MARY'S\", 56.865, 5.6865000000000006], ['Dennis Edwards DDS', 'MISSOURI BAPTIST', 55.51, 5.551], ['Tiffany Flores', \"ST.LUKE'S\", 49.18, 4.918], ['Leslie Stewart', 'BJC', 41.379999999999995, 4.138], ['Keith Caldwell', 'BJC', 50.745, 5.0745], ['Andrew Crosby', 'BJC', 48.145, 4.814500000000001], ['John Alvarez', 'SAINT LOUIS UNIVERSITY', 43.69, 4.369], ['Rachel Shannon', 'BJC WEST COUNTY', 49.42, 4.942], ['Joanna Richardson DDS', 'MISSOURI BAPTIST', 48.324999999999996, 4.8325], ['Eric Watson', 'BJC WEST COUNTY', 44.665, 4.4665], ['Justin Lynch', 'BJC', 58.885, 5.8885], ['Cynthia Jones', 'MISSOURI BAPTIST', 48.715, 4.8715], ['Gary Cobb', \"ST.LUKE'S\", 56.470000000000006, 5.647], ['Daniel Potter', \"ST.LUKE'S\", 53.815, 5.3815], ['Laurie Brady', 'MISSOURI BAPTIST', 57.0, 5.7], ['Kellie Lane MD', 'BJC', 45.905, 4.5905000000000005], ['Sandra Bell', 'BJC', 54.895, 5.4895000000000005], ['Sarah Edwards', \"ST.MARY'S\", 56.145, 5.6145000000000005], ['Amanda Knight', \"ST.LUKE'S\", 44.875, 4.4875], ['William Nelson', \"ST.MARY'S\", 45.675000000000004, 4.567500000000001], ['Ashley Bernard', 'BJC', 46.58, 4.6579999999999995], ['Selena Taylor', 'BJC', 40.385, 4.0385], ['Linda Franco', 'BJC', 52.09, 5.2090000000000005], ['Charles Ramos', \"ST.LUKE'S\", 58.709999999999994, 5.8709999999999996], ['Anthony Smith', \"ST.LUKE'S\", 41.21, 4.121], ['Andrew Cox', 'BJC WEST COUNTY', 50.805, 5.0805], ['Danielle Clayton', 'BJC WEST COUNTY', 54.385000000000005, 5.4385], ['Michael Wilcox', 'BJC WEST COUNTY', 50.535000000000004, 5.0535000000000005], ['Wendy Dunn', \"ST.LUKE'S\", 49.815, 4.9815], ['Robert Maynard', 'SAINT LOUIS UNIVERSITY', 43.51499999999999, 4.3515], ['William Kaiser', \"ST.LUKE'S\", 49.15, 4.915], ['Erin Mejia', \"ST.MARY'S\", 45.08, 4.508], ['Kenneth Jones', \"ST.LUKE'S\", 53.565000000000005, 5.3565000000000005], ['Janet Brown', 'BJC WEST COUNTY', 49.335, 4.9335], ['Hunter Fuentes', 'SAINT LOUIS UNIVERSITY', 55.395, 5.5395], ['William Arellano', 'BJC WEST COUNTY', 50.43, 5.043], ['Cory Bowers', \"ST.MARY'S\", 51.72, 5.172], ['Luke Price', 'BJC WEST COUNTY', 57.0, 5.7], ['Cindy Rodgers', \"ST.MARY'S\", 41.685, 4.1685], ['Robert Tran', \"ST.LUKE'S\", 45.6, 4.5600000000000005], ['Susan Ware', \"ST.MARY'S\", 46.38, 4.638], ['Jordan Gallegos', 'MISSOURI BAPTIST', 49.24, 4.924], ['Kara Bennett', 'SAINT LOUIS UNIVERSITY', 41.7, 4.17], ['Jason Clayton', 'BJC WEST COUNTY', 49.205, 4.9205], ['Lauren Bradley', 'SAINT LOUIS UNIVERSITY', 55.225, 5.5225], ['Pamela Clayton', 'BJC WEST COUNTY', 57.775, 5.7775], ['Kristina Cowan', \"ST.LUKE'S\", 49.57, 4.957], ['Anthony Hanson MD', 'MISSOURI BAPTIST', 49.36, 4.936], ['Amanda Johnson', 'SAINT LOUIS UNIVERSITY', 51.075, 5.1075], ['Carl Short', 'BJC', 54.805, 5.4805], ['Taylor Price', 'SAINT LOUIS UNIVERSITY', 43.955, 4.3955], ['Katie Davis', \"ST.MARY'S\", 47.919999999999995, 4.792], ['Alison Duncan', \"ST.MARY'S\", 44.404999999999994, 4.440499999999999], ['Destiny Estrada', 'BJC', 57.61, 5.761], ['Ronald Montoya', 'SAINT LOUIS UNIVERSITY', 40.945, 4.0945], ['Brooke Baker', 'BJC', 41.25, 4.125], ['Kristen Williams', \"ST.LUKE'S\", 56.44, 5.644], ['Jacob Levine', \"ST.LUKE'S\", 41.9, 4.1899999999999995]]\n",
            "Hospital Results: [[\"ST.LUKE'S\", 49.28707317073169, 4.92870731707317, 164], ['SAINT LOUIS UNIVERSITY', 49.36060975609756, 4.936060975609758, 164], ['BJC', 49.58717391304347, 4.95871739130435, 184], ['MISSOURI BAPTIST', 49.856801242236, 4.985680124223601, 161], ['BJC WEST COUNTY', 49.26999999999999, 4.9270000000000005, 171], [\"ST.MARY'S\", 49.6896794871795, 4.9689679487179506, 156]]\n"
          ]
        }
      ],
      "source": [
        "import csv\n",
        "import json\n",
        "\n",
        "# Load data\n",
        "def load_data(csv_file, json_file):\n",
        "    with open(csv_file, 'r') as f:\n",
        "        patients = [dict(row, HEIGHT_M=float(row['HEIGHT_M']), WEIGHT_KG=float(row['WEIGHT_KG'])) for row in csv.DictReader(f)]\n",
        "    with open(json_file, 'r') as f:\n",
        "        hospitals = json.load(f)\n",
        "    return patients, hospitals\n",
        "\n",
        "# Calculate BODE Score and Risk\n",
        "def calculate_bode(patient):\n",
        "    score = (patient['HEIGHT_M'] + patient['WEIGHT_KG']) / 2\n",
        "    return score, score / 10\n",
        "\n",
        "# Process patients and hospital data\n",
        "def process_data(patients):\n",
        "    results, stats = [], {}\n",
        "    for patient in patients:\n",
        "        score, risk = calculate_bode(patient)\n",
        "        results.append([patient['NAME'], patient['hospital'], score, risk])\n",
        "        stats.setdefault(patient['hospital'], {'total_score': 0, 'total_risk': 0, 'count': 0})\n",
        "        stats[patient['hospital']]['total_score'] += score\n",
        "        stats[patient['hospital']]['total_risk'] += risk\n",
        "        stats[patient['hospital']]['count'] += 1\n",
        "\n",
        "    averages = [[h, s['total_score'] / s['count'], s['total_risk'] / s['count'], s['count']] for h, s in stats.items()]\n",
        "    return results, averages\n",
        "\n",
        "# Write results to CSV\n",
        "def save_to_csv(filename, data, headers):\n",
        "    with open(filename, 'w', newline='') as f:\n",
        "        writer = csv.writer(f)\n",
        "        writer.writerow(headers)\n",
        "        writer.writerows(data)\n",
        "\n",
        "# Main execution\n",
        "patient_data, _ = load_data(\"patient.csv\", \"hospitals.json\")\n",
        "patient_results, hospital_averages = process_data(patient_data)\n",
        "\n",
        "# Save outputs\n",
        "save_to_csv(\"patient_output.csv\", patient_results, [\"PATIENT_NAME\", \"HOSPITAL\", \"BODE_SCORE\", \"BODE_RISK\"])\n",
        "save_to_csv(\"hospital_output.csv\", hospital_averages, [\"HOSPITAL\", \"AVG_BODE_SCORE\", \"AVG_BODE_RISK\", \"NUM_PATIENTS\"])\n",
        "\n",
        "# Display results\n",
        "print(\"Patient Results:\", patient_results[:])\n",
        "print(\"Hospital Results:\", hospital_averages[:])"
      ]
    }
  ],
  "metadata": {
    "language_info": {
      "name": "python"
    },
    "colab": {
      "provenance": [],
      "include_colab_link": true
    },
    "kernelspec": {
      "name": "python3",
      "display_name": "Python 3"
    }
  },
  "nbformat": 4,
  "nbformat_minor": 0
}