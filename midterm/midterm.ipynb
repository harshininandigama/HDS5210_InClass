{
  "cells": [
    {
      "cell_type": "markdown",
      "metadata": {
        "id": "view-in-github",
        "colab_type": "text"
      },
      "source": [
        "<a href=\"https://colab.research.google.com/github/harshininandigama/HDS5210_InClass/blob/master/midterm/midterm.ipynb\" target=\"_parent\"><img src=\"https://colab.research.google.com/assets/colab-badge.svg\" alt=\"Open In Colab\"/></a>"
      ]
    },
    {
      "cell_type": "markdown",
      "metadata": {
        "id": "X3tigoT27cBB"
      },
      "source": [
        "### Mid-term for HDS5210\n",
        "\n",
        "Your supervisor is concerned about 4-year survival risks for COPD. She has asked for you to do some analysis using a new metric, BODE. BODE is an improvement on a previous metric and promises to provide insight on survival risks.\n",
        "\n",
        "BODE is defined here. https://www.mdcalc.com/calc/3916/bode-index-copd-survival#evidence\n",
        "\n",
        "Your assignment is to create a BODE calculation, use it to calculate BODE scores and BODE survival rates for a group of patients. Then we want to evaluate the average BODE scores and BODE survival rates for each area hospital.\n",
        "\n",
        "Your patient input file will have the following columns:\n",
        "NAME,SSN,LANGUAGE,JOB,HEIGHT_M,WEIGHT_KG,fev_pct,dyspnea_description,distance_in_meters,hospital\n",
        "\n",
        "BODE calculations require a BMI value, so you will have to create a function for it.\n",
        "\n",
        "Your output should be in the form of two CSV files, patient_output.csv and hospital_output.csv.\n",
        "\n",
        "Patient_output will have the following columns:\n",
        "NAME,BODE_SCORE,BODE_RISK,HOSPITAL\n",
        "\n",
        "Hospital output will have the following columns:\n",
        "HOSPITAL_NAME, COPD_COUNT, PCT_OF_COPD_CASES_OVER_BEDS, AVG_SCORE, AVG_RISK\n",
        "\n",
        "Each function you create should have documentation and a suitable number of test cases. If the input data could be wrong, make sure to raise a Value Error.\n",
        "\n",
        "For this assignment, use the doctest, json, and csv libraries. Pandas is not allowed for this assignment."
      ]
    },
    {
      "cell_type": "code",
      "execution_count": 7,
      "metadata": {
        "id": "r6_EYz3h7cBC"
      },
      "outputs": [],
      "source": [
        "import doctest\n",
        "import json\n",
        "import csv"
      ]
    },
    {
      "cell_type": "markdown",
      "metadata": {
        "id": "Tr6JRiiU7cBC"
      },
      "source": [
        "### Step 1: Calculate BMI"
      ]
    },
    {
      "cell_type": "code",
      "execution_count": 10,
      "metadata": {
        "id": "v-GMwtk47cBC",
        "outputId": "3583ed92-3263-4a74-97dc-9626638b56e4",
        "colab": {
          "base_uri": "https://localhost:8080/"
        }
      },
      "outputs": [
        {
          "output_type": "stream",
          "name": "stdout",
          "text": [
            "22.86\n",
            "19.53\n",
            "Weight and height must be positive numbers.\n",
            "Weight and height must be positive numbers.\n"
          ]
        }
      ],
      "source": [
        "def calculate_bmi(weight_kg, height_m):\n",
        "    \"\"\"\n",
        "    Calculate the Body Mass Index (BMI) using weight in kilograms and height in meters.\n",
        "\n",
        "    >>> calculate_bmi(70, 1.75)\n",
        "    22.86\n",
        "    >>> calculate_bmi(50, 1.6)\n",
        "    19.53\n",
        "    >>> calculate_bmi(0, 1.75)\n",
        "    Traceback (most recent call last):\n",
        "    ...\n",
        "    ValueError: Weight and height must be positive numbers.\n",
        "    >>> calculate_bmi(70, -1.75)\n",
        "    Traceback (most recent call last):\n",
        "    ...\n",
        "    ValueError: Weight and height must be positive numbers.\n",
        "\n",
        "    :Weight in kilograms\n",
        "    :Height in meters\n",
        "    :Calculated BMI value (float)\n",
        "    :raises ValueError: If weight or height are non-positive\n",
        "    \"\"\"\n",
        "    if weight_kg <= 0 or height_m <= 0:\n",
        "        raise ValueError(\"Weight and height must be positive numbers.\")\n",
        "\n",
        "    bmi = weight_kg / (height_m ** 2)\n",
        "    return round(bmi, 2)\n",
        "\n",
        "# Testing the function with valid cases\n",
        "print(calculate_bmi(70, 1.75))\n",
        "print(calculate_bmi(50, 1.6))\n",
        "\n",
        "# Testing invalid cases\n",
        "for test_case in [(70, -1.75), (0, 1.75)]:\n",
        "    try:\n",
        "        print(calculate_bmi(*test_case))\n",
        "    except ValueError as e:\n",
        "        print(e)"
      ]
    },
    {
      "cell_type": "markdown",
      "metadata": {
        "id": "lXYjKYrt7cBC"
      },
      "source": [
        "### Step 2: Calculate BODE Score"
      ]
    },
    {
      "cell_type": "code",
      "execution_count": 12,
      "metadata": {
        "id": "v5E4IXZv7cBC",
        "outputId": "c67f2e0e-8c20-46a7-96f1-257e6c7b149c",
        "colab": {
          "base_uri": "https://localhost:8080/"
        }
      },
      "outputs": [
        {
          "output_type": "stream",
          "name": "stdout",
          "text": [
            "3\n",
            "11\n"
          ]
        }
      ],
      "source": [
        "def calculate_bode_score(bmi, fev_pct, dyspnea_level, distance_m):\n",
        "    \"\"\"\n",
        "    Compute the BODE score based on the provided parameters.\n",
        "\n",
        "    :Body Mass Index (float)\n",
        "    :FEV1 percentage (float)\n",
        "    :Descriptive level of dyspnea (str)\n",
        "    :Distance covered in meters during a 6-minute walk test (float)\n",
        "    :return: Total BODE score (int)\n",
        "    :raises ValueError: If inputs are invalid or outside expected ranges\n",
        "\n",
        "    >>> calculate_bode_score(22.5, 60, \"Breathless when hurrying or walking uphill\", 270)\n",
        "    4\n",
        "    >>> calculate_bode_score(20.0, 30, \"Too breathless to leave house or while dressing\", 50)\n",
        "    8\n",
        "    >>> calculate_bode_score(21, 70, \"Only breathless with strenuous exercise\", 400)\n",
        "    1\n",
        "    >>> calculate_bode_score(25, 20, \"Walks slower, stops for breath\", 100)\n",
        "    Traceback (most recent call last):\n",
        "    ...\n",
        "    ValueError: Invalid dyspnea level.\n",
        "    \"\"\"\n",
        "\n",
        "    # Calculate BMI score\n",
        "    bmi_score = 1 if bmi <= 21 else 0\n",
        "\n",
        "    # Calculate FEV score\n",
        "    if fev_pct >= 65:\n",
        "        fev_score = 0\n",
        "    elif fev_pct >= 50:\n",
        "        fev_score = 1\n",
        "    elif fev_pct >= 36:\n",
        "        fev_score = 2\n",
        "    elif fev_pct < 36:\n",
        "        fev_score = 3\n",
        "    else:\n",
        "        raise ValueError(\"Invalid FEV percentage.\")\n",
        "\n",
        "    # Dyspnea score mapping\n",
        "    dyspnea_scores = {\n",
        "        \"Only breathless with strenuous exercise\": 0,\n",
        "        \"Breathless when hurrying or walking uphill\": 1,\n",
        "        \"Walks slower, stops for breath\": 2,\n",
        "        \"Stops for breath after 100 yards or a few minutes on level ground\": 3,\n",
        "        \"Too breathless to leave house or while dressing\": 4\n",
        "    }\n",
        "\n",
        "    if dyspnea_level not in dyspnea_scores:\n",
        "        raise ValueError(\"Invalid dyspnea level.\")\n",
        "\n",
        "    dyspnea_score = dyspnea_scores[dyspnea_level]\n",
        "\n",
        "    # Calculate distance score\n",
        "    if distance_m >= 350:\n",
        "        distance_score = 0\n",
        "    elif distance_m >= 250:\n",
        "        distance_score = 1\n",
        "    elif distance_m >= 150:\n",
        "        distance_score = 2\n",
        "    else:\n",
        "        distance_score = 3\n",
        "\n",
        "    # Total BODE score\n",
        "    return bmi_score + fev_score + dyspnea_score + distance_score\n",
        "\n",
        "# Testing the function according to valid parameters\n",
        "print(calculate_bode_score(22.5, 60, \"Breathless when hurrying or walking uphill\", 270))\n",
        "print(calculate_bode_score(20.0, 30, \"Too breathless to leave house or while dressing\", 50))"
      ]
    },
    {
      "cell_type": "markdown",
      "metadata": {
        "id": "GuJlgykf7cBC"
      },
      "source": [
        "### Step 3: Calculate BODE Risk"
      ]
    },
    {
      "cell_type": "code",
      "execution_count": 14,
      "metadata": {
        "id": "tF4pUR497cBC",
        "outputId": "2af7cfbc-2978-4dcc-9e73-6bace70980fe",
        "colab": {
          "base_uri": "https://localhost:8080/"
        }
      },
      "outputs": [
        {
          "output_type": "stream",
          "name": "stdout",
          "text": [
            "80\n",
            "18\n"
          ]
        }
      ],
      "source": [
        "def bode_risk(score):\n",
        "    \"\"\"\n",
        "    Calculate the 4-year survival risk percentage based on the provided BODE score.\n",
        "\n",
        "    :BODE score (int)\n",
        "    :return: 4-year survival risk percentage (int)\n",
        "    :raises ValueError: If the score is not in the range of 0 to 10\n",
        "\n",
        "    >>> bode_risk(2)\n",
        "    80\n",
        "    >>> bode_risk(4)\n",
        "    67\n",
        "    >>> bode_risk(6)\n",
        "    57\n",
        "    >>> bode_risk(8)\n",
        "    18\n",
        "    >>> bode_risk(-1)\n",
        "    Traceback (most recent call last):\n",
        "    ...\n",
        "    ValueError: Score must be between 0 and 10.\n",
        "    >>> bode_risk(11)\n",
        "    Traceback (most recent call last):\n",
        "    ...\n",
        "    ValueError: Score must be between 0 and 10.\n",
        "    \"\"\"\n",
        "    if not (0 <= score <= 10):\n",
        "        raise ValueError(\"Score must be between 0 and 10.\")\n",
        "\n",
        "    survival_risks = {\n",
        "        (0, 2): 80,   # 80% survival for scores 0 to 2\n",
        "        (3, 4): 67,   # 67% survival for scores 3 to 4\n",
        "        (5, 6): 57,   # 57% survival for scores 5 to 6\n",
        "        (7, 10): 18   # 18% survival for scores 7 to 10\n",
        "    }\n",
        "\n",
        "    for range_tuple, risk in survival_risks.items():\n",
        "        if range_tuple[0] <= score <= range_tuple[1]:\n",
        "            return risk\n",
        "\n",
        "    raise ValueError(\"Unexpected error in risk calculation.\")\n",
        "\n",
        "# Test Cases\n",
        "print(bode_risk(2))\n",
        "print(bode_risk(8))"
      ]
    },
    {
      "cell_type": "markdown",
      "metadata": {
        "id": "YwFuRpb37cBC"
      },
      "source": [
        "### Step 4: Load Hospital Data"
      ]
    },
    {
      "cell_type": "code",
      "execution_count": 20,
      "metadata": {
        "id": "bLDtfRzV7cBC",
        "outputId": "cc2b5cff-115e-4819-f2d2-0263ba900332",
        "colab": {
          "base_uri": "https://localhost:8080/"
        }
      },
      "outputs": [
        {
          "output_type": "stream",
          "name": "stdout",
          "text": [
            "Loaded 1000 patients from '/content/patient.csv'.\n",
            "Loaded 3 hospitals from '/content/hospitals.json'.\n"
          ]
        }
      ],
      "source": [
        "import csv\n",
        "import json\n",
        "\n",
        "def load_patient_data(file_path):\n",
        "    \"\"\"\n",
        "    Load patient data from a CSV file.\n",
        "\n",
        "    :param file_path: Path to the CSV file.\n",
        "    :return: List of patient dictionaries.\n",
        "    :raises ValueError: If required columns are missing or data conversion fails.\n",
        "    \"\"\"\n",
        "    required_columns = {'NAME', 'HEIGHT_M', 'WEIGHT_KG', 'fev_pct', 'dyspnea_description', 'distance_in_meters', 'hospital'}\n",
        "\n",
        "    with open(file_path, mode='r') as file:\n",
        "        reader = csv.DictReader(file)\n",
        "        missing_cols = required_columns - set(reader.fieldnames)\n",
        "        if missing_cols:\n",
        "            raise ValueError(f\"Missing columns: {missing_cols}\")\n",
        "\n",
        "        patient_data = []\n",
        "        for row in reader:\n",
        "            try:\n",
        "                patient_data.append({\n",
        "                    'NAME': row['NAME'],\n",
        "                    'HEIGHT_M': float(row['HEIGHT_M']),\n",
        "                    'WEIGHT_KG': float(row['WEIGHT_KG']),\n",
        "                    'fev_pct': float(row['fev_pct']),\n",
        "                    'dyspnea_description': row['dyspnea_description'],\n",
        "                    'distance_in_meters': float(row['distance_in_meters']),\n",
        "                    'hospital': row['hospital']\n",
        "                })\n",
        "            except (ValueError, KeyError) as e:\n",
        "                print(f\"Skipping {row.get('NAME', 'Unknown')} due to error: {e}\")\n",
        "\n",
        "    return patient_data\n",
        "\n",
        "def load_hospital_info(json_path):\n",
        "    \"\"\"\n",
        "    Load hospital information from a JSON file.\n",
        "\n",
        "    :param json_path: Path to the JSON file.\n",
        "    :return: Dictionary of hospital information.\n",
        "    :raises ValueError: If JSON decoding fails.\n",
        "    \"\"\"\n",
        "    with open(json_path, 'r') as json_file:\n",
        "        try:\n",
        "            return json.load(json_file)\n",
        "        except json.JSONDecodeError as e:\n",
        "            raise ValueError(f\"Error decoding JSON: {e}\")\n",
        "\n",
        "# Load data\n",
        "try:\n",
        "    patients = load_patient_data('/content/patient.csv')\n",
        "    print(f\"Loaded {len(patients)} patients from '/content/patient.csv'.\")\n",
        "except ValueError as e:\n",
        "    print(f\"Error loading patient data: {e}\")\n",
        "\n",
        "try:\n",
        "    hospitals = load_hospital_info('/content/hospitals.json')\n",
        "    print(f\"Loaded {len(hospitals)} hospitals from '/content/hospitals.json'.\")\n",
        "except ValueError as e:\n",
        "    print(f\"Error loading hospital data: {e}\")"
      ]
    },
    {
      "cell_type": "markdown",
      "metadata": {
        "id": "39GmDfyP7cBC"
      },
      "source": [
        "### Step 5: Main business logic\n",
        "\n",
        "Call BODE Score, BODE Risk functions for each patient.\n",
        "\n",
        "For each hospital, calculate Avg BODE score and Avg BODE risk and count the number of cases for each hospital."
      ]
    },
    {
      "cell_type": "code",
      "execution_count": 25,
      "metadata": {
        "id": "YxHE0qSn7cBD",
        "outputId": "fd6820e3-94dd-43fc-b50b-1d2de48a3858",
        "colab": {
          "base_uri": "https://localhost:8080/"
        }
      },
      "outputs": [
        {
          "output_type": "stream",
          "name": "stdout",
          "text": [
            "Patient Results:\n",
            "['Vanessa Roberts', \"ST.LUKE'S\", 1, 80]\n",
            "['Christopher Fox', 'SAINT LOUIS UNIVERSITY', 3, 67]\n",
            "['Benjamin Johnston', 'BJC', 1, 80]\n",
            "['Christopher Hernandez', 'MISSOURI BAPTIST', 1, 80]\n",
            "['Valerie Burch', 'BJC WEST COUNTY', 0, 80]\n",
            "['Heather Hart', 'SAINT LOUIS UNIVERSITY', 3, 67]\n",
            "['Ronald Cobb', \"ST.MARY'S\", 4, 57]\n",
            "['Austin French', 'SAINT LOUIS UNIVERSITY', 6, 18]\n",
            "['Mary Leonard', 'BJC', 5, 57]\n",
            "['Mrs. Nicole Smith', \"ST.MARY'S\", 3, 67]\n",
            "['Ashley Warren', 'BJC', 5, 57]\n",
            "['Jeffrey Jacobson', 'BJC WEST COUNTY', 4, 57]\n",
            "['Angela Bauer', 'BJC WEST COUNTY', 3, 67]\n",
            "['Jerry Rogers', 'BJC', 2, 67]\n",
            "['Lisa Beck', 'BJC', 2, 67]\n",
            "['Bryan Pena', 'SAINT LOUIS UNIVERSITY', 4, 57]\n",
            "['Jessica Henderson', 'SAINT LOUIS UNIVERSITY', 1, 80]\n",
            "['Daniel Mitchell', 'MISSOURI BAPTIST', 3, 67]\n",
            "['Melanie Graham', 'BJC', 1, 80]\n",
            "['Deborah Jimenez', 'MISSOURI BAPTIST', 3, 67]\n",
            "['Kathryn Rasmussen', 'BJC WEST COUNTY', 1, 80]\n",
            "['Brian Leon', 'BJC', 3, 67]\n",
            "['Robert Walker', 'MISSOURI BAPTIST', 5, 57]\n",
            "['Drew Case', 'MISSOURI BAPTIST', 4, 57]\n",
            "['Joshua Finley', \"ST.LUKE'S\", 4, 57]\n",
            "\n",
            "Hospital Results:\n",
            "[\"ST.LUKE'S\", 2.9146341463414633, 64.21951219512195, 164]\n",
            "['SAINT LOUIS UNIVERSITY', 3.0365853658536586, 63.542682926829265, 164]\n",
            "['BJC', 2.972826086956522, 63.29347826086956, 184]\n",
            "['MISSOURI BAPTIST', 2.8260869565217392, 64.9192546583851, 161]\n",
            "['BJC WEST COUNTY', 2.8771929824561404, 63.98245614035088, 171]\n",
            "[\"ST.MARY'S\", 2.8974358974358974, 64.22435897435898, 156]\n"
          ]
        }
      ],
      "source": [
        "import csv\n",
        "import json\n",
        "\n",
        "# Step 1: Define file paths\n",
        "patient_csv = \"/content/patient.csv\"\n",
        "hospital_json = \"/content/hospitals.json\"\n",
        "\n",
        "# Step 2: Calculate BMI\n",
        "def calculate_bmi(weight_kg, height_m):\n",
        "    if weight_kg <= 0 or height_m <= 0:\n",
        "        raise ValueError(\"Weight and height must be positive numbers.\")\n",
        "    return weight_kg / (height_m ** 2)\n",
        "\n",
        "# Step 3: Calculate BODE Score and Risk\n",
        "def calculate_bode_score(patient):\n",
        "    bmi = calculate_bmi(patient['WEIGHT_KG'], patient['HEIGHT_M'])\n",
        "    bmi_score = 0 if bmi > 21 else 1\n",
        "\n",
        "    # FEV1% score\n",
        "    fev_score = 0 if patient['fev_pct'] >= 65 else (1 if patient['fev_pct'] >= 50 else (2 if patient['fev_pct'] >= 36 else 3))\n",
        "\n",
        "    # Dyspnea score\n",
        "    dyspnea_mapping = {\n",
        "        \"Only breathless with strenuous exercise\": 0,\n",
        "        \"Breathless when hurrying or walking uphill\": 1,\n",
        "        \"Walks slower, stops for breath\": 2,\n",
        "        \"Stops for breath after 100 yards or a few minutes on level ground\": 3,\n",
        "        \"Too breathless to leave house or while dressing\": 4\n",
        "    }\n",
        "    dyspnea_score = dyspnea_mapping.get(patient['dyspnea_description'], 0)\n",
        "\n",
        "    # Distance score\n",
        "    distance_score = 0 if patient['distance_in_meters'] >= 350 else (1 if patient['distance_in_meters'] >= 250 else (2 if patient['distance_in_meters'] >= 150 else 3))\n",
        "\n",
        "    # Total BODE score and risk\n",
        "    bode_score = bmi_score + fev_score + dyspnea_score + distance_score\n",
        "    bode_risk = {0: 80, 1: 80, 2: 67, 3: 67, 4: 57, 5: 57, 6: 18}.get(bode_score, 18)\n",
        "\n",
        "    return bode_score, bode_risk\n",
        "\n",
        "# Step 4: Load patient data from CSV\n",
        "def load_patient_data(filename):\n",
        "    with open(filename, mode='r') as file:\n",
        "        csv_reader = csv.DictReader(file)\n",
        "        headers = csv_reader.fieldnames\n",
        "        required_columns = ['NAME', 'HEIGHT_M', 'WEIGHT_KG', 'fev_pct', 'dyspnea_description', 'distance_in_meters', 'hospital']\n",
        "        for column in required_columns:\n",
        "            if column not in headers:\n",
        "                raise ValueError(f\"Missing required column: {column}\")\n",
        "\n",
        "        return [\n",
        "            {**row,\n",
        "             'HEIGHT_M': float(row['HEIGHT_M']),\n",
        "             'WEIGHT_KG': float(row['WEIGHT_KG']),\n",
        "             'fev_pct': float(row['fev_pct']),\n",
        "             'distance_in_meters': float(row['distance_in_meters'])}\n",
        "            for row in csv_reader\n",
        "        ]\n",
        "\n",
        "# Step 5: Load hospital data from JSON\n",
        "def load_hospital_data(filename):\n",
        "    try:\n",
        "        with open(filename, mode='r') as file:\n",
        "            return json.load(file)\n",
        "    except FileNotFoundError:\n",
        "        raise ValueError(f\"File not found: {filename}\")\n",
        "    except json.JSONDecodeError:\n",
        "        raise ValueError(f\"Invalid JSON format in file: {filename}\")\n",
        "\n",
        "# Step 6: Process patients and hospitals\n",
        "def process_patients_and_hospitals(patient_data):\n",
        "    patient_results = []\n",
        "    hospital_aggregates = {}\n",
        "\n",
        "    for patient in patient_data:\n",
        "        bode_score, bode_risk = calculate_bode_score(patient)\n",
        "        patient_results.append([patient['NAME'], patient['hospital'], bode_score, bode_risk])\n",
        "\n",
        "        hospital_id = patient['hospital']\n",
        "        if hospital_id not in hospital_aggregates:\n",
        "            hospital_aggregates[hospital_id] = {'total_bode_score': 0, 'total_bode_risk': 0, 'num_patients': 0}\n",
        "\n",
        "        hospital_aggregates[hospital_id]['total_bode_score'] += bode_score\n",
        "        hospital_aggregates[hospital_id]['total_bode_risk'] += bode_risk\n",
        "        hospital_aggregates[hospital_id]['num_patients'] += 1\n",
        "\n",
        "    return patient_results, [\n",
        "        [hospital_id, aggregates['total_bode_score'] / aggregates['num_patients'],\n",
        "         aggregates['total_bode_risk'] / aggregates['num_patients'], aggregates['num_patients']]\n",
        "        for hospital_id, aggregates in hospital_aggregates.items()\n",
        "    ]\n",
        "\n",
        "# Step 7: Write results to CSV files\n",
        "def write_csv(filename, data, headers=None):\n",
        "    with open(filename, 'w', newline='') as csvfile:\n",
        "        writer = csv.writer(csvfile)\n",
        "        if headers:\n",
        "            writer.writerow(headers)\n",
        "        writer.writerows(data)\n",
        "\n",
        "# Step 8: Load data, process it, and save results\n",
        "patient_data = load_patient_data(patient_csv)\n",
        "hospital_data = load_hospital_data(hospital_json)\n",
        "\n",
        "patient_results, hospital_output_list = process_patients_and_hospitals(patient_data)\n",
        "\n",
        "write_csv(\"patient_output.csv\", patient_results, headers=[\"PATIENT_NAME\", \"HOSPITAL\", \"BODE_SCORE\", \"BODE_RISK\"])\n",
        "write_csv(\"hospital_output.csv\", hospital_output_list, headers=[\"HOSPITAL\", \"AVG_BODE_SCORE\", \"AVG_BODE_RISK\", \"NUM_PATIENTS\"])\n",
        "\n",
        "# Output for verification\n",
        "print(\"Patient Results:\")\n",
        "for row in patient_results[:25]:\n",
        "    print(row)\n",
        "\n",
        "print(\"\\nHospital Results:\")\n",
        "for row in hospital_output_list[:6]:\n",
        "    print(row)"
      ]
    }
  ],
  "metadata": {
    "language_info": {
      "name": "python"
    },
    "colab": {
      "provenance": [],
      "include_colab_link": true
    },
    "kernelspec": {
      "name": "python3",
      "display_name": "Python 3"
    }
  },
  "nbformat": 4,
  "nbformat_minor": 0
}