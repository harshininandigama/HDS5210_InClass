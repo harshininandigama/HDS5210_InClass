{
  "cells": [
    {
      "cell_type": "markdown",
      "metadata": {
        "id": "view-in-github",
        "colab_type": "text"
      },
      "source": [
        "<a href=\"https://colab.research.google.com/github/harshininandigama/HDS5210_InClass/blob/master/week06/week07_assignment.ipynb\" target=\"_parent\"><img src=\"https://colab.research.google.com/assets/colab-badge.svg\" alt=\"Open In Colab\"/></a>"
      ]
    },
    {
      "cell_type": "markdown",
      "metadata": {
        "id": "wrrkS-L5Cozq"
      },
      "source": [
        "# Week 7 Assignment\n",
        "\n",
        "We've been working with different types of data structures in Python (dictionary, list, etc), how those are represented in JSON documents, and how to write code to access specific data elements. In this week's assignment, you will need to create your own JSON document to store information about yourself and the grades you've received from week 1 to week 4 and the week 6 quiz.  That is, everything you should have received a grade for.  Then you'll need to show me you know how to navigate the JSON in that file.\n",
        "\n",
        "Different from what we've done in the past, you do not have to write any functions or include any docstrings.  Just create some JSON and write some code.\n",
        "\n",
        "---"
      ]
    },
    {
      "cell_type": "markdown",
      "metadata": {
        "id": "OV9N7B2UCozr"
      },
      "source": [
        "## 7.1 Create a JSON file\n",
        "\n",
        "Create a JSON file that contains your name, email, year you were born, all of the grades you've received back so far, and a comment about what you thought was most challenging on each of those assignments.  This can be any structure you choose, but make sure it uses a dictionary and a list, and has at least two levels of hierarchy.  That is, it can't just be one big long list."
      ]
    },
    {
      "cell_type": "markdown",
      "metadata": {
        "id": "rXMH5Xw-Cozr"
      },
      "source": [
        "First, explain how your data structure is going to look..."
      ]
    },
    {
      "cell_type": "markdown",
      "metadata": {
        "id": "aCzKNRLeCozr"
      },
      "source": [
        "The data structure of the JSON file will be a root dictionary including two primary elements: grades and personal information. The birth year, email address, and name are all values in a dictionary that is pointed to by the personal_info key. A list of dictionaries, one dictionary for each week's grade and feedback, will be included in the grades key. Every submission will have week, grade, and comment, which will make it easy to see what grades were earned and what difficulties were encountered. Maintaining personal and academic information structured and managed, this hierarchical structure ensures easy access."
      ]
    },
    {
      "cell_type": "markdown",
      "metadata": {
        "id": "-J9EDFpQCozr"
      },
      "source": [
        "Then put the actual JSON you've created inside the multiline string below..."
      ]
    },
    {
      "cell_type": "code",
      "execution_count": 4,
      "metadata": {
        "id": "l5gFqI5mCozr"
      },
      "outputs": [],
      "source": [
        "hds5210 = \"\"\"\n",
        "{\n",
        "    \"personal_info\": {\n",
        "        \"name\": \"harshininandigama\",\n",
        "        \"email\": \"harshini.nandigama@slu.edu\",\n",
        "        \"birth_year\": 1998\n",
        "    },\n",
        "    \"grades\": [\n",
        "        {\n",
        "            \"week\": 1,\n",
        "            \"grade\": 10,\n",
        "            \"comment\": \"First week was easy as it is only adding the collaborator.\"\n",
        "        },\n",
        "        {\n",
        "            \"week\": 2,\n",
        "            \"grade\": 8,\n",
        "            \"comment\": \"I made poor choice in defining functions, variables.\"\n",
        "        },\n",
        "        {\n",
        "            \"week\": 3,\n",
        "            \"grade\": 10,\n",
        "            \"comment\": \"At first, I didn't understand the process. Later, I worked on it and completed the assignment.\"\n",
        "        },\n",
        "        {\n",
        "            \"week\": 4,\n",
        "            \"grade\": 12,\n",
        "            \"comment\": \"I was a little bit confused with nested lists; later I watched some videos and started working on it.\"\n",
        "        }\n",
        "    ]\n",
        "}\n",
        "\"\"\""
      ]
    },
    {
      "cell_type": "markdown",
      "metadata": {
        "id": "pbclPXfyCozs"
      },
      "source": [
        "## 7.2 Do something with your JSON\n",
        "\n",
        "Now use Python code to do something with the Json above.  Turn it into English text, but make sure that you use at least one loop to access some dict or list content of your JSON.  Below, I've provided some basic code to read in the string above as JSON and return a Python object.  Your job is to work with that data structure and print out the important information like your name, email, and how you did on each assignment."
      ]
    },
    {
      "cell_type": "code",
      "execution_count": 13,
      "metadata": {
        "id": "NkAeMRPICozs",
        "outputId": "ebcfbfda-ebe8-4cec-e0f7-1a56e0969351",
        "colab": {
          "base_uri": "https://localhost:8080/"
        }
      },
      "outputs": [
        {
          "output_type": "stream",
          "name": "stdout",
          "text": [
            "Name: harshininandigama\n",
            "Email: harshini.nandigama@slu.edu\n",
            "Week 1: Grade = 10, Comment: First week was easy as it is only adding the collaborator.\n",
            "Week 2: Grade = 8, Comment: I made poor choice in defining functions, variables.\n",
            "Week 3: Grade = 10, Comment: At first, I didn't understand the process. Later, I worked on it and completed the assignment.\n",
            "Week 4: Grade = 12, Comment: I was a little bit confused with nested lists; later I watched some videos and started working on it.\n"
          ]
        }
      ],
      "source": [
        "import json\n",
        "\n",
        "# Sample JSON data (as if it has been loaded from an external source)\n",
        "data = {\n",
        "    \"personal_info\": {\n",
        "        \"name\": \"harshininandigama\",\n",
        "        \"email\": \"harshini.nandigama@slu.edu\",\n",
        "        \"birth_year\": 1998\n",
        "    },\n",
        "    \"grades\": [\n",
        "        {\n",
        "            \"week\": 1,\n",
        "            \"grade\": 10,\n",
        "            \"comment\": \"First week was easy as it is only adding the collaborator.\"\n",
        "        },\n",
        "        {\n",
        "            \"week\": 2,\n",
        "            \"grade\": 8,\n",
        "            \"comment\": \"I made poor choice in defining functions, variables.\"\n",
        "        },\n",
        "        {\n",
        "            \"week\": 3,\n",
        "            \"grade\": 10,\n",
        "            \"comment\": \"At first, I didn't understand the process. Later, I worked on it and completed the assignment.\"\n",
        "        },\n",
        "        {\n",
        "            \"week\": 4,\n",
        "            \"grade\": 12,\n",
        "            \"comment\": \"I was a little bit confused with nested lists; later I watched some videos and started working on it.\"\n",
        "        }\n",
        "    ]\n",
        "}\n",
        "\n",
        "# Extract personal information, print personal information, grades and comments of each week\n",
        "name = data[\"personal_info\"][\"name\"]\n",
        "email = data[\"personal_info\"][\"email\"]\n",
        "\n",
        "print(f\"Name: {name}\")\n",
        "print(f\"Email: {email}\")\n",
        "\n",
        "for grade_info in data[\"grades\"]:\n",
        "    week = grade_info[\"week\"]\n",
        "    grade = grade_info[\"grade\"]\n",
        "    comment = grade_info[\"comment\"]\n",
        "    print(f\"Week {week}: Grade = {grade}, Comment: {comment}\")"
      ]
    },
    {
      "cell_type": "markdown",
      "metadata": {
        "id": "L4KgOcD_Cozs"
      },
      "source": [
        "## 7.3 Reflect\n",
        "\n",
        "Write a paragraph on any reflections you have. Was this hard? Easy?  What parts were most challenging or easiest? What did you like or dislike about the assignment?  Share whatever important thoughts you have abou this assignment."
      ]
    },
    {
      "cell_type": "markdown",
      "metadata": {
        "id": "zqwgPxEUCozs"
      },
      "source": [
        "I saw this assignment was a good opportunity to gain knowledge on Phyton and JSON data. JSON documents hold my grades and personal data, I was able to arrange the data effectively. To me the easiest part in this assignment preparing the JSON data since I had little bit knowledge about this JSON data structure. It is challenging to select specific parts and nested data was correctly fetching. This is the best way to represent and retrieving the data, the creative process of creating my own data which gave a unique part to the assignment, and I felt more engaging to create my own data, even though the process was little time taking as I need to check the code and JSON data was accurate. All in all, this exercise improved my comprehension of JSON and gave me useful opportunities to use my Python skills."
      ]
    },
    {
      "cell_type": "markdown",
      "metadata": {
        "id": "cTlZeed-Cozs"
      },
      "source": [
        "---\n",
        "\n",
        "# Example\n",
        "\n",
        "Below is an example of something similar, but this uses information my and my friend's kids instead of grades."
      ]
    },
    {
      "cell_type": "code",
      "execution_count": null,
      "metadata": {
        "id": "B3EF46KOCozs",
        "outputId": "03b0b423-e9cc-41e7-aeab-4c09ba57b4a1"
      },
      "outputs": [
        {
          "name": "stdout",
          "output_type": "stream",
          "text": [
            "Hi, my name is Paul. I've got 3 kids. Their names are Ellie, Ada, Teddy.\n",
            "My friend, Anny has 1 kids. That's fewer than me. Their names are 1\n"
          ]
        }
      ],
      "source": [
        "hds5210 = \"\"\"\n",
        "{\n",
        "    \"me\": {\n",
        "        \"name\": \"Paul\",\n",
        "        \"kids\": [\"Ellie\", \"Ada\", \"Teddy\"]\n",
        "    },\n",
        "    \"friend\": {\n",
        "        \"name\": \"Anny\",\n",
        "        \"kids\": [\"Abby\"]\n",
        "    }\n",
        "}\n",
        "\"\"\"\n",
        "\n",
        "import json\n",
        "\n",
        "info = json.loads(hds5210)\n",
        "\n",
        "me = info[\"me\"][\"name\"]\n",
        "my_kids_count = len(info[\"me\"][\"kids\"])\n",
        "kids_list = \", \".join(info[\"me\"][\"kids\"])\n",
        "friend = info[\"friend\"][\"name\"]\n",
        "friends_kid_count = len(info[\"friend\"][\"kids\"])\n",
        "friend_kids = \", \".join(info[\"friend\"][\"kids\"])\n",
        "compare = \"more\" if friends_kid_count > my_kids_count else \"fewer\"\n",
        "\n",
        "print(f\"Hi, my name is {me}. I've got {my_kids_count} kids. Their names are {kids_list}.\")\n",
        "print(f\"My friend, {friend} has {friends_kid_count} kids. That's {compare} than me. Their names are {friends_kid_count}\")"
      ]
    }
  ],
  "metadata": {
    "kernelspec": {
      "display_name": "Python 3",
      "language": "python",
      "name": "python3"
    },
    "language_info": {
      "codemirror_mode": {
        "name": "ipython",
        "version": 3
      },
      "file_extension": ".py",
      "mimetype": "text/x-python",
      "name": "python",
      "nbconvert_exporter": "python",
      "pygments_lexer": "ipython3",
      "version": "3.9.16"
    },
    "colab": {
      "provenance": [],
      "include_colab_link": true
    }
  },
  "nbformat": 4,
  "nbformat_minor": 0
}